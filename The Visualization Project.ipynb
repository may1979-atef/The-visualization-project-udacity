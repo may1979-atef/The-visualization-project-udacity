{
 "cells": [
  {
   "cell_type": "markdown",
   "metadata": {},
   "source": [
    "## The visualization Project:\n",
    "## this project is concerning the 201902 Ford go bike trip data.\n",
    "### The works down here are representing my code work and exploration work in addtion to the explanatory work concerning the previous data of ford go bike. "
   ]
  },
  {
   "cell_type": "markdown",
   "metadata": {},
   "source": [
    "### First about this project i engoyed the work here and i know that the project is measured against rubric but i did what appeared interesting to me and followed a trend and it giveme a convincing results in which i hope to be the same for you."
   ]
  },
  {
   "cell_type": "markdown",
   "metadata": {},
   "source": [
    "### About the data under investigation:\n",
    "#### I downloaded the data from the Udacity resources in the same time i tried to use the ford go bike data in the Data Option but the link directed me to the main Ford web site and it was of no use for me."
   ]
  },
  {
   "cell_type": "markdown",
   "metadata": {},
   "source": [
    "## The nature of data set and wrangling efforts;\n",
    "### It took me into two stages:\n",
    "#### The first wrangling stage according to the nature of the dataset.\n",
    "#### The second wrangling stage according to the aim i want to achive and points want to explain."
   ]
  },
  {
   "cell_type": "markdown",
   "metadata": {},
   "source": [
    "## The Data Wrangling;\n",
    "#### The data consist of 16 column and (seven) of them will be dropped like ( start_station_latitude, start_station_longitude).\n",
    "#### The trip duration listed in seconds and when dealing with it was not representive so need to be in minutes.\n",
    "####  After trasformation the duration in sec column will be dropped.\n",
    "#### The null values in the dataset happen in 8688 rows will be removed.\n",
    "#### Extracting date and time from start and end time into (four) columns for start and end (time and date).\n",
    "#### Changing Start date and End date columns into datetime formate.\n",
    "#### Extracting start and end day of the week from start date and end date columns.\n",
    "#### Changing the member_birth_year column into (int) to extract the year from.\n",
    "#### developing a new column called (age)"
   ]
  },
  {
   "cell_type": "code",
   "execution_count": 1,
   "metadata": {},
   "outputs": [],
   "source": [
    "# Importing the necessary liberaries.\n",
    "\n",
    "import numpy as np\n",
    "import pandas as pd\n",
    "import matplotlib.pyplot as plt\n",
    "import seaborn as sb\n",
    "import datetime as dt\n",
    "import io\n",
    "\n",
    "%matplotlib inline"
   ]
  },
  {
   "cell_type": "code",
   "execution_count": 2,
   "metadata": {},
   "outputs": [
    {
     "name": "stderr",
     "output_type": "stream",
     "text": [
      "/opt/conda/lib/python3.6/site-packages/IPython/core/interactiveshell.py:2785: DtypeWarning: Columns (6,9) have mixed types. Specify dtype option on import or set low_memory=False.\n",
      "  interactivity=interactivity, compiler=compiler, result=result)\n"
     ]
    }
   ],
   "source": [
    "# importing and opening the dataset of concern.\n",
    "df = pd.read_csv('201902-fordgobike-tripdata.csv')"
   ]
  },
  {
   "cell_type": "markdown",
   "metadata": {},
   "source": [
    "### The main exploration step for the dataset upon which the wrangling step prepared and pointed out."
   ]
  },
  {
   "cell_type": "code",
   "execution_count": 3,
   "metadata": {},
   "outputs": [
    {
     "data": {
      "text/html": [
       "<div>\n",
       "<style scoped>\n",
       "    .dataframe tbody tr th:only-of-type {\n",
       "        vertical-align: middle;\n",
       "    }\n",
       "\n",
       "    .dataframe tbody tr th {\n",
       "        vertical-align: top;\n",
       "    }\n",
       "\n",
       "    .dataframe thead th {\n",
       "        text-align: right;\n",
       "    }\n",
       "</style>\n",
       "<table border=\"1\" class=\"dataframe\">\n",
       "  <thead>\n",
       "    <tr style=\"text-align: right;\">\n",
       "      <th></th>\n",
       "      <th>duration_sec</th>\n",
       "      <th>start_time</th>\n",
       "      <th>end_time</th>\n",
       "      <th>start_station_id</th>\n",
       "      <th>start_station_name</th>\n",
       "      <th>start_station_latitude</th>\n",
       "      <th>start_station_longitude</th>\n",
       "      <th>end_station_id</th>\n",
       "      <th>end_station_name</th>\n",
       "      <th>end_station_latitude</th>\n",
       "      <th>end_station_longitude</th>\n",
       "      <th>bike_id</th>\n",
       "      <th>user_type</th>\n",
       "      <th>member_birth_year</th>\n",
       "      <th>member_gender</th>\n",
       "      <th>bike_share_for_all_trip</th>\n",
       "    </tr>\n",
       "  </thead>\n",
       "  <tbody>\n",
       "    <tr>\n",
       "      <th>0</th>\n",
       "      <td>52185</td>\n",
       "      <td>2019-02-28 17:32:10.1450</td>\n",
       "      <td>2019-03-01 08:01:55.9750</td>\n",
       "      <td>21.0</td>\n",
       "      <td>Montgomery St BART Station (Market St at 2nd St)</td>\n",
       "      <td>37.789625</td>\n",
       "      <td>-122.401</td>\n",
       "      <td>13.0</td>\n",
       "      <td>Commercial St at Montgomery St</td>\n",
       "      <td>37.7942</td>\n",
       "      <td>-122.402923</td>\n",
       "      <td>4902.0</td>\n",
       "      <td>Customer</td>\n",
       "      <td>1984.0</td>\n",
       "      <td>Male</td>\n",
       "      <td>No</td>\n",
       "    </tr>\n",
       "    <tr>\n",
       "      <th>1</th>\n",
       "      <td>42521</td>\n",
       "      <td>2019-02-28 18:53:21.7890</td>\n",
       "      <td>2019-03-01 06:42:03.0560</td>\n",
       "      <td>23.0</td>\n",
       "      <td>The Embarcadero at Steuart St</td>\n",
       "      <td>37.791464</td>\n",
       "      <td>-122.391</td>\n",
       "      <td>81.0</td>\n",
       "      <td>Berry St at 4th St</td>\n",
       "      <td>37.7759</td>\n",
       "      <td>-122.393170</td>\n",
       "      <td>2535.0</td>\n",
       "      <td>Customer</td>\n",
       "      <td>NaN</td>\n",
       "      <td>NaN</td>\n",
       "      <td>No</td>\n",
       "    </tr>\n",
       "    <tr>\n",
       "      <th>2</th>\n",
       "      <td>61854</td>\n",
       "      <td>2019-02-28 12:13:13.2180</td>\n",
       "      <td>2019-03-01 05:24:08.1460</td>\n",
       "      <td>86.0</td>\n",
       "      <td>Market St at Dolores St</td>\n",
       "      <td>37.769305</td>\n",
       "      <td>-122.427</td>\n",
       "      <td>3.0</td>\n",
       "      <td>Powell St BART Station (Market St at 4th St)</td>\n",
       "      <td>37.7864</td>\n",
       "      <td>-122.404904</td>\n",
       "      <td>5905.0</td>\n",
       "      <td>Customer</td>\n",
       "      <td>1972.0</td>\n",
       "      <td>Male</td>\n",
       "      <td>No</td>\n",
       "    </tr>\n",
       "    <tr>\n",
       "      <th>3</th>\n",
       "      <td>36490</td>\n",
       "      <td>2019-02-28 17:54:26.0100</td>\n",
       "      <td>2019-03-01 04:02:36.8420</td>\n",
       "      <td>375.0</td>\n",
       "      <td>Grove St at Masonic Ave</td>\n",
       "      <td>37.774836</td>\n",
       "      <td>-122.447</td>\n",
       "      <td>70.0</td>\n",
       "      <td>Central Ave at Fell St</td>\n",
       "      <td>37.7733</td>\n",
       "      <td>-122.444293</td>\n",
       "      <td>6638.0</td>\n",
       "      <td>Subscriber</td>\n",
       "      <td>1989.0</td>\n",
       "      <td>Other</td>\n",
       "      <td>No</td>\n",
       "    </tr>\n",
       "    <tr>\n",
       "      <th>4</th>\n",
       "      <td>1585</td>\n",
       "      <td>2019-02-28 23:54:18.5490</td>\n",
       "      <td>2019-03-01 00:20:44.0740</td>\n",
       "      <td>7.0</td>\n",
       "      <td>Frank H Ogawa Plaza</td>\n",
       "      <td>37.804562</td>\n",
       "      <td>-122.272</td>\n",
       "      <td>222.0</td>\n",
       "      <td>10th Ave at E 15th St</td>\n",
       "      <td>37.7927</td>\n",
       "      <td>-122.248780</td>\n",
       "      <td>4898.0</td>\n",
       "      <td>Subscriber</td>\n",
       "      <td>1974.0</td>\n",
       "      <td>Male</td>\n",
       "      <td>Yes</td>\n",
       "    </tr>\n",
       "  </tbody>\n",
       "</table>\n",
       "</div>"
      ],
      "text/plain": [
       "   duration_sec                start_time                  end_time  \\\n",
       "0         52185  2019-02-28 17:32:10.1450  2019-03-01 08:01:55.9750   \n",
       "1         42521  2019-02-28 18:53:21.7890  2019-03-01 06:42:03.0560   \n",
       "2         61854  2019-02-28 12:13:13.2180  2019-03-01 05:24:08.1460   \n",
       "3         36490  2019-02-28 17:54:26.0100  2019-03-01 04:02:36.8420   \n",
       "4          1585  2019-02-28 23:54:18.5490  2019-03-01 00:20:44.0740   \n",
       "\n",
       "   start_station_id                                start_station_name  \\\n",
       "0              21.0  Montgomery St BART Station (Market St at 2nd St)   \n",
       "1              23.0                     The Embarcadero at Steuart St   \n",
       "2              86.0                           Market St at Dolores St   \n",
       "3             375.0                           Grove St at Masonic Ave   \n",
       "4               7.0                               Frank H Ogawa Plaza   \n",
       "\n",
       "   start_station_latitude start_station_longitude  end_station_id  \\\n",
       "0               37.789625                -122.401            13.0   \n",
       "1               37.791464                -122.391            81.0   \n",
       "2               37.769305                -122.427             3.0   \n",
       "3               37.774836                -122.447            70.0   \n",
       "4               37.804562                -122.272           222.0   \n",
       "\n",
       "                               end_station_name end_station_latitude  \\\n",
       "0                Commercial St at Montgomery St              37.7942   \n",
       "1                            Berry St at 4th St              37.7759   \n",
       "2  Powell St BART Station (Market St at 4th St)              37.7864   \n",
       "3                        Central Ave at Fell St              37.7733   \n",
       "4                         10th Ave at E 15th St              37.7927   \n",
       "\n",
       "   end_station_longitude  bike_id   user_type  member_birth_year  \\\n",
       "0            -122.402923   4902.0    Customer             1984.0   \n",
       "1            -122.393170   2535.0    Customer                NaN   \n",
       "2            -122.404904   5905.0    Customer             1972.0   \n",
       "3            -122.444293   6638.0  Subscriber             1989.0   \n",
       "4            -122.248780   4898.0  Subscriber             1974.0   \n",
       "\n",
       "  member_gender bike_share_for_all_trip  \n",
       "0          Male                      No  \n",
       "1           NaN                      No  \n",
       "2          Male                      No  \n",
       "3         Other                      No  \n",
       "4          Male                     Yes  "
      ]
     },
     "execution_count": 3,
     "metadata": {},
     "output_type": "execute_result"
    }
   ],
   "source": [
    "df.head(5)"
   ]
  },
  {
   "cell_type": "code",
   "execution_count": 4,
   "metadata": {},
   "outputs": [
    {
     "name": "stdout",
     "output_type": "stream",
     "text": [
      "<class 'pandas.core.frame.DataFrame'>\n",
      "RangeIndex: 188280 entries, 0 to 188279\n",
      "Data columns (total 16 columns):\n",
      "duration_sec               188280 non-null int64\n",
      "start_time                 188280 non-null object\n",
      "end_time                   188280 non-null object\n",
      "start_station_id           188079 non-null float64\n",
      "start_station_name         188079 non-null object\n",
      "start_station_latitude     188280 non-null float64\n",
      "start_station_longitude    188280 non-null object\n",
      "end_station_id             188079 non-null float64\n",
      "end_station_name           188079 non-null object\n",
      "end_station_latitude       188280 non-null object\n",
      "end_station_longitude      188279 non-null float64\n",
      "bike_id                    188279 non-null float64\n",
      "user_type                  188279 non-null object\n",
      "member_birth_year          179791 non-null float64\n",
      "member_gender              179791 non-null object\n",
      "bike_share_for_all_trip    188279 non-null object\n",
      "dtypes: float64(6), int64(1), object(9)\n",
      "memory usage: 23.0+ MB\n"
     ]
    }
   ],
   "source": [
    "df.info()"
   ]
  },
  {
   "cell_type": "code",
   "execution_count": 5,
   "metadata": {},
   "outputs": [
    {
     "data": {
      "text/html": [
       "<div>\n",
       "<style scoped>\n",
       "    .dataframe tbody tr th:only-of-type {\n",
       "        vertical-align: middle;\n",
       "    }\n",
       "\n",
       "    .dataframe tbody tr th {\n",
       "        vertical-align: top;\n",
       "    }\n",
       "\n",
       "    .dataframe thead th {\n",
       "        text-align: right;\n",
       "    }\n",
       "</style>\n",
       "<table border=\"1\" class=\"dataframe\">\n",
       "  <thead>\n",
       "    <tr style=\"text-align: right;\">\n",
       "      <th></th>\n",
       "      <th>duration_sec</th>\n",
       "      <th>start_station_id</th>\n",
       "      <th>start_station_latitude</th>\n",
       "      <th>end_station_id</th>\n",
       "      <th>end_station_longitude</th>\n",
       "      <th>bike_id</th>\n",
       "      <th>member_birth_year</th>\n",
       "    </tr>\n",
       "  </thead>\n",
       "  <tbody>\n",
       "    <tr>\n",
       "      <th>count</th>\n",
       "      <td>188280.000000</td>\n",
       "      <td>188079.000000</td>\n",
       "      <td>188280.000000</td>\n",
       "      <td>188079.000000</td>\n",
       "      <td>188279.000000</td>\n",
       "      <td>188279.000000</td>\n",
       "      <td>179791.000000</td>\n",
       "    </tr>\n",
       "    <tr>\n",
       "      <th>mean</th>\n",
       "      <td>725.415041</td>\n",
       "      <td>138.504739</td>\n",
       "      <td>37.795622</td>\n",
       "      <td>136.359929</td>\n",
       "      <td>-122.352325</td>\n",
       "      <td>4479.528508</td>\n",
       "      <td>1984.809379</td>\n",
       "    </tr>\n",
       "    <tr>\n",
       "      <th>std</th>\n",
       "      <td>1785.963941</td>\n",
       "      <td>111.785818</td>\n",
       "      <td>10.535380</td>\n",
       "      <td>111.549218</td>\n",
       "      <td>0.116540</td>\n",
       "      <td>1664.780452</td>\n",
       "      <td>10.111496</td>\n",
       "    </tr>\n",
       "    <tr>\n",
       "      <th>min</th>\n",
       "      <td>61.000000</td>\n",
       "      <td>3.000000</td>\n",
       "      <td>37.317298</td>\n",
       "      <td>3.000000</td>\n",
       "      <td>-122.453704</td>\n",
       "      <td>11.000000</td>\n",
       "      <td>1878.000000</td>\n",
       "    </tr>\n",
       "    <tr>\n",
       "      <th>25%</th>\n",
       "      <td>325.000000</td>\n",
       "      <td>47.000000</td>\n",
       "      <td>37.770407</td>\n",
       "      <td>44.000000</td>\n",
       "      <td>-122.411726</td>\n",
       "      <td>3787.000000</td>\n",
       "      <td>1980.000000</td>\n",
       "    </tr>\n",
       "    <tr>\n",
       "      <th>50%</th>\n",
       "      <td>514.000000</td>\n",
       "      <td>104.000000</td>\n",
       "      <td>37.780760</td>\n",
       "      <td>100.000000</td>\n",
       "      <td>-122.398279</td>\n",
       "      <td>4962.000000</td>\n",
       "      <td>1987.000000</td>\n",
       "    </tr>\n",
       "    <tr>\n",
       "      <th>75%</th>\n",
       "      <td>796.000000</td>\n",
       "      <td>239.000000</td>\n",
       "      <td>37.797280</td>\n",
       "      <td>235.000000</td>\n",
       "      <td>-122.288045</td>\n",
       "      <td>5510.000000</td>\n",
       "      <td>1992.000000</td>\n",
       "    </tr>\n",
       "    <tr>\n",
       "      <th>max</th>\n",
       "      <td>85444.000000</td>\n",
       "      <td>398.000000</td>\n",
       "      <td>4609.000000</td>\n",
       "      <td>1987.000000</td>\n",
       "      <td>-121.874119</td>\n",
       "      <td>6645.000000</td>\n",
       "      <td>2001.000000</td>\n",
       "    </tr>\n",
       "  </tbody>\n",
       "</table>\n",
       "</div>"
      ],
      "text/plain": [
       "        duration_sec  start_station_id  start_station_latitude  \\\n",
       "count  188280.000000     188079.000000           188280.000000   \n",
       "mean      725.415041        138.504739               37.795622   \n",
       "std      1785.963941        111.785818               10.535380   \n",
       "min        61.000000          3.000000               37.317298   \n",
       "25%       325.000000         47.000000               37.770407   \n",
       "50%       514.000000        104.000000               37.780760   \n",
       "75%       796.000000        239.000000               37.797280   \n",
       "max     85444.000000        398.000000             4609.000000   \n",
       "\n",
       "       end_station_id  end_station_longitude        bike_id  member_birth_year  \n",
       "count   188079.000000          188279.000000  188279.000000      179791.000000  \n",
       "mean       136.359929            -122.352325    4479.528508        1984.809379  \n",
       "std        111.549218               0.116540    1664.780452          10.111496  \n",
       "min          3.000000            -122.453704      11.000000        1878.000000  \n",
       "25%         44.000000            -122.411726    3787.000000        1980.000000  \n",
       "50%        100.000000            -122.398279    4962.000000        1987.000000  \n",
       "75%        235.000000            -122.288045    5510.000000        1992.000000  \n",
       "max       1987.000000            -121.874119    6645.000000        2001.000000  "
      ]
     },
     "execution_count": 5,
     "metadata": {},
     "output_type": "execute_result"
    }
   ],
   "source": [
    "df.describe()"
   ]
  },
  {
   "cell_type": "code",
   "execution_count": 6,
   "metadata": {},
   "outputs": [
    {
     "data": {
      "text/plain": [
       "(188280, 16)"
      ]
     },
     "execution_count": 6,
     "metadata": {},
     "output_type": "execute_result"
    }
   ],
   "source": [
    "df.shape"
   ]
  },
  {
   "cell_type": "code",
   "execution_count": 7,
   "metadata": {},
   "outputs": [
    {
     "data": {
      "text/plain": [
       "duration_sec                 int64\n",
       "start_time                  object\n",
       "end_time                    object\n",
       "start_station_id           float64\n",
       "start_station_name          object\n",
       "start_station_latitude     float64\n",
       "start_station_longitude     object\n",
       "end_station_id             float64\n",
       "end_station_name            object\n",
       "end_station_latitude        object\n",
       "end_station_longitude      float64\n",
       "bike_id                    float64\n",
       "user_type                   object\n",
       "member_birth_year          float64\n",
       "member_gender               object\n",
       "bike_share_for_all_trip     object\n",
       "dtype: object"
      ]
     },
     "execution_count": 7,
     "metadata": {},
     "output_type": "execute_result"
    }
   ],
   "source": [
    "df.dtypes"
   ]
  },
  {
   "cell_type": "markdown",
   "metadata": {},
   "source": [
    "## The main step of dataset cleaning by making copy from Datafram.\n",
    "## And starting the wrangling and cleaning step to give tiddy and clean dataset."
   ]
  },
  {
   "cell_type": "code",
   "execution_count": 8,
   "metadata": {},
   "outputs": [],
   "source": [
    "# Mking a copy of the datefram.\n",
    "df_copy = df"
   ]
  },
  {
   "cell_type": "code",
   "execution_count": 9,
   "metadata": {},
   "outputs": [
    {
     "data": {
      "text/plain": [
       "(188280, 16)"
      ]
     },
     "execution_count": 9,
     "metadata": {},
     "output_type": "execute_result"
    }
   ],
   "source": [
    "df_copy.shape"
   ]
  },
  {
   "cell_type": "code",
   "execution_count": 10,
   "metadata": {},
   "outputs": [],
   "source": [
    "# Dropping the un necessary columns.\n",
    "df_copy.drop(['start_station_id', 'start_station_latitude', 'start_station_longitude', 'end_station_id', 'end_station_latitude'\n",
    "            , 'end_station_longitude', 'bike_id'], inplace=True, axis = 1)"
   ]
  },
  {
   "cell_type": "code",
   "execution_count": 11,
   "metadata": {},
   "outputs": [],
   "source": [
    "# transfering the seconds into minutes.\n",
    "df_copy['duration_min']=df_copy['duration_sec']/60"
   ]
  },
  {
   "cell_type": "code",
   "execution_count": 12,
   "metadata": {},
   "outputs": [],
   "source": [
    "# Droping the duration _sec column.\n",
    "df_copy.drop(['duration_sec'], inplace=True, axis = 1)"
   ]
  },
  {
   "cell_type": "code",
   "execution_count": 13,
   "metadata": {},
   "outputs": [
    {
     "name": "stdout",
     "output_type": "stream",
     "text": [
      "<class 'pandas.core.frame.DataFrame'>\n",
      "RangeIndex: 188280 entries, 0 to 188279\n",
      "Data columns (total 9 columns):\n",
      "start_time                 188280 non-null object\n",
      "end_time                   188280 non-null object\n",
      "start_station_name         188079 non-null object\n",
      "end_station_name           188079 non-null object\n",
      "user_type                  188279 non-null object\n",
      "member_birth_year          179791 non-null float64\n",
      "member_gender              179791 non-null object\n",
      "bike_share_for_all_trip    188279 non-null object\n",
      "duration_min               188280 non-null float64\n",
      "dtypes: float64(2), object(7)\n",
      "memory usage: 12.9+ MB\n"
     ]
    }
   ],
   "source": [
    "# configuring the data set to make sure of the changing.\n",
    "df_copy.info()"
   ]
  },
  {
   "cell_type": "code",
   "execution_count": 14,
   "metadata": {},
   "outputs": [
    {
     "data": {
      "text/plain": [
       "(188280, 9)"
      ]
     },
     "execution_count": 14,
     "metadata": {},
     "output_type": "execute_result"
    }
   ],
   "source": [
    "df_copy.shape"
   ]
  },
  {
   "cell_type": "markdown",
   "metadata": {},
   "source": [
    "### Find out the null or Nan in the data set and dropping them."
   ]
  },
  {
   "cell_type": "code",
   "execution_count": 15,
   "metadata": {},
   "outputs": [
    {
     "data": {
      "text/plain": [
       "start_time                    0\n",
       "end_time                      0\n",
       "start_station_name          201\n",
       "end_station_name            201\n",
       "user_type                     1\n",
       "member_birth_year          8489\n",
       "member_gender              8489\n",
       "bike_share_for_all_trip       1\n",
       "duration_min                  0\n",
       "dtype: int64"
      ]
     },
     "execution_count": 15,
     "metadata": {},
     "output_type": "execute_result"
    }
   ],
   "source": [
    "df_copy.isnull().sum()"
   ]
  },
  {
   "cell_type": "code",
   "execution_count": 16,
   "metadata": {},
   "outputs": [
    {
     "name": "stdout",
     "output_type": "stream",
     "text": [
      "                      start_time                  end_time  \\\n",
      "1       2019-02-28 18:53:21.7890  2019-03-01 06:42:03.0560   \n",
      "13      2019-02-28 23:49:06.0620  2019-03-01 00:04:21.8670   \n",
      "28      2019-02-28 23:43:27.5030  2019-02-28 23:54:18.4510   \n",
      "53      2019-02-28 22:41:16.3620  2019-02-28 23:38:14.3630   \n",
      "65      2019-02-28 23:17:05.8530  2019-02-28 23:32:32.6820   \n",
      "147     2019-02-28 22:46:19.1140  2019-02-28 22:52:31.4770   \n",
      "176     2019-02-28 22:28:50.5140  2019-02-28 22:41:00.8970   \n",
      "220     2019-02-28 22:05:25.5530  2019-02-28 22:29:11.1180   \n",
      "266     2019-02-28 21:53:13.2740  2019-02-28 22:14:56.1730   \n",
      "292     2019-02-28 21:43:04.3630  2019-02-28 22:07:32.6640   \n",
      "323     2019-02-28 21:52:54.9590  2019-02-28 21:57:30.5860   \n",
      "329     2019-02-28 21:45:47.5210  2019-02-28 21:56:02.0820   \n",
      "369     2019-02-28 21:34:04.0330  2019-02-28 21:47:08.2180   \n",
      "371     2019-02-28 21:41:14.0510  2019-02-28 21:46:34.7440   \n",
      "407     2019-02-28 21:32:00.4030  2019-02-28 21:38:22.9040   \n",
      "422     2019-02-28 21:28:29.4510  2019-02-28 21:36:11.4770   \n",
      "456     2019-02-28 21:18:14.9580  2019-02-28 21:28:10.3180   \n",
      "472     2019-02-28 21:16:42.8680  2019-02-28 21:24:39.8500   \n",
      "475     2019-02-28 20:55:53.9320  2019-02-28 21:24:23.7380   \n",
      "513     2019-02-28 21:14:26.2530  2019-02-28 21:19:02.7090   \n",
      "546     2019-02-28 15:05:22.4670  2019-02-28 21:13:29.6710   \n",
      "547     2019-02-28 20:52:59.8810  2019-02-28 21:13:24.1490   \n",
      "559     2019-02-28 21:04:38.5970  2019-02-28 21:11:45.8590   \n",
      "617     2019-02-28 20:38:39.5600  2019-02-28 20:59:38.9710   \n",
      "641     2019-02-28 20:47:29.2170  2019-02-28 20:55:52.1840   \n",
      "703     2019-02-28 20:35:31.5170  2019-02-28 20:45:35.9980   \n",
      "726     2019-02-28 20:40:29.8530  2019-02-28 20:42:59.9050   \n",
      "768     2019-02-28 20:27:34.9640  2019-02-28 20:35:26.9640   \n",
      "777     2019-02-28 20:19:22.6330  2019-02-28 20:33:30.0630   \n",
      "778     2019-02-28 20:24:29.6360  2019-02-28 20:33:27.1260   \n",
      "...                          ...                       ...   \n",
      "187764  2019-02-01 07:30:27.7900  2019-02-01 07:44:06.8310   \n",
      "187772  2019-02-01 07:35:23.2890  2019-02-01 07:43:04.1250   \n",
      "187787  2019-02-01 07:21:29.5150  2019-02-01 07:41:04.0500   \n",
      "187819  2019-02-01 07:33:59.0810  2019-02-01 07:37:00.3560   \n",
      "187859  2019-02-01 07:12:35.5660  2019-02-01 07:31:51.6390   \n",
      "187887  2019-02-01 07:22:45.2490  2019-02-01 07:28:05.1150   \n",
      "187945  2019-02-01 07:11:09.4440  2019-02-01 07:18:45.1520   \n",
      "187972  2019-02-01 06:53:20.9500  2019-02-01 07:12:17.0780   \n",
      "187980  2019-02-01 06:57:46.6320  2019-02-01 07:09:41.2890   \n",
      "187994  2019-02-01 06:58:52.7650  2019-02-01 07:04:47.0170   \n",
      "187999  2019-02-01 06:58:14.2290  2019-02-01 07:03:50.8770   \n",
      "188003  2019-02-01 06:53:16.7010  2019-02-01 07:02:58.9480   \n",
      "188032  2019-02-01 06:46:56.0210  2019-02-01 06:55:01.8930   \n",
      "188048  2019-02-01 06:47:31.8750  2019-02-01 06:50:38.9200   \n",
      "188062  2019-02-01 06:38:01.6770  2019-02-01 06:46:29.8910   \n",
      "188066  2019-02-01 06:44:03.6380  2019-02-01 06:45:12.4190   \n",
      "188077  2019-02-01 06:36:23.4240  2019-02-01 06:41:29.7440   \n",
      "188080  2019-02-01 06:29:10.9000  2019-02-01 06:40:30.7640   \n",
      "188083  2019-02-01 01:39:13.0980  2019-02-01 06:38:26.6810   \n",
      "188094  2019-02-01 06:25:20.7950  2019-02-01 06:33:50.5210   \n",
      "188149  2019-02-01 05:37:59.0090  2019-02-01 05:49:16.4370   \n",
      "188154  2019-02-01 05:30:42.6840  2019-02-01 05:42:41.7100   \n",
      "188174  2019-02-01 01:03:11.3620  2019-02-01 04:44:03.3210   \n",
      "188178  2019-02-01 03:17:02.2330  2019-02-01 03:41:12.3720   \n",
      "188200  2019-02-01 02:10:37.3200  2019-02-01 02:24:25.6090   \n",
      "188222  2019-02-01 01:35:07.6630  2019-02-01 01:42:36.8780   \n",
      "188224  2019-02-01 01:25:50.3660  2019-02-01 01:39:05.9500   \n",
      "188231  2019-02-01 01:12:24.4200  2019-02-01 01:23:37.6450   \n",
      "188239  2019-02-01 01:08:38.6410  2019-02-01 01:11:54.9490   \n",
      "188270  2019-02-01 00:17:32.2580  2019-02-01 00:19:34.9380   \n",
      "\n",
      "                                       start_station_name  \\\n",
      "1                           The Embarcadero at Steuart St   \n",
      "13                           Channing Way at Shattuck Ave   \n",
      "28                            University Ave at Oxford St   \n",
      "53                                 Davis St at Jackson St   \n",
      "65                         Commercial St at Montgomery St   \n",
      "147                                    Hyde St at Post St   \n",
      "176                         Channing Way at San Pablo Ave   \n",
      "220                         The Embarcadero at Vallejo St   \n",
      "266                               Grand Ave at Webster St   \n",
      "292                                      5th St at Folsom   \n",
      "323                                             Snow Park   \n",
      "329                                Valencia St at 16th St   \n",
      "369     Civic Center/UN Plaza BART Station (Market St ...   \n",
      "371                          Channing Way at Shattuck Ave   \n",
      "407                                 2nd St at Townsend St   \n",
      "422                            Webster St at O'Farrell St   \n",
      "456                                   Howard St at 8th St   \n",
      "472                           El Embarcadero at Grand Ave   \n",
      "475                                                   NaN   \n",
      "513                                Turk St at Fillmore St   \n",
      "546          Powell St BART Station (Market St at 4th St)   \n",
      "547                         The Embarcadero at Sansome St   \n",
      "559                                   Jones St at Post St   \n",
      "617                               23rd St at Tennessee St   \n",
      "641                               Church St at Duboce Ave   \n",
      "703                                  20th St at Bryant St   \n",
      "726                                Harrison St at 17th St   \n",
      "768      Montgomery St BART Station (Market St at 2nd St)   \n",
      "777                                  16th St Mission BART   \n",
      "778                                  10th St at Fallon St   \n",
      "...                                                   ...   \n",
      "187764                              Laguna St at Hayes St   \n",
      "187772                              Howard St at Beale St   \n",
      "187787                            Derby St at College Ave   \n",
      "187819                                Berry St at King St   \n",
      "187859                            30th St at San Jose Ave   \n",
      "187887                                Bay Pl at Vernon St   \n",
      "187945                            Market St at Dolores St   \n",
      "187972                                       Precita Park   \n",
      "187980                            Steuart St at Market St   \n",
      "187994  San Francisco Caltrain Station 2  (Townsend St...   \n",
      "187999                        Cyril Magnin St at Ellis St   \n",
      "188003                              19th St at Florida St   \n",
      "188032                              20th St at Dolores St   \n",
      "188048                                 Irwin St at 8th St   \n",
      "188062                               Jackson St at 5th St   \n",
      "188066                              Hubbell St at 16th St   \n",
      "188077                                    Franklin Square   \n",
      "188080                         Webster St at O'Farrell St   \n",
      "188083                            Market St at Dolores St   \n",
      "188094                               Market St at 10th St   \n",
      "188149                        S Van Ness Ave at Market St   \n",
      "188154                            Beale St at Harrison St   \n",
      "188174                         Raymond Kimbell Playground   \n",
      "188178                        Cyril Magnin St at Ellis St   \n",
      "188200                             Valencia St at 22nd St   \n",
      "188222                         Shattuck Ave at Hearst Ave   \n",
      "188224                               Myrtle St at Polk St   \n",
      "188231                           Market St at Franklin St   \n",
      "188239                               Market St at 10th St   \n",
      "188270                                  18th St at Noe St   \n",
      "\n",
      "                                         end_station_name   user_type  \\\n",
      "1                                      Berry St at 4th St    Customer   \n",
      "13                             Shattuck Ave at Hearst Ave  Subscriber   \n",
      "28                          Channing Way at San Pablo Ave    Customer   \n",
      "53                                 Davis St at Jackson St    Customer   \n",
      "65                                     Berry St at 4th St  Subscriber   \n",
      "147     San Francisco Public Library (Grove St at Hyde...    Customer   \n",
      "176                           University Ave at Oxford St    Customer   \n",
      "220                                17th St at Valencia St  Subscriber   \n",
      "266                         Shattuck Ave at Telegraph Ave    Customer   \n",
      "292                         O'Farrell St at Divisadero St    Customer   \n",
      "323                               Grand Ave at Perkins St  Subscriber   \n",
      "329              Garfield Square (25th St at Harrison St)    Customer   \n",
      "369                                   1st St at Folsom St  Subscriber   \n",
      "371                            Shattuck Ave at Hearst Ave    Customer   \n",
      "407      Montgomery St BART Station (Market St at 2nd St)  Subscriber   \n",
      "422                                   Jones St at Post St  Subscriber   \n",
      "456     San Francisco Caltrain Station 2  (Townsend St...  Subscriber   \n",
      "472                              Telegraph Ave at 23rd St    Customer   \n",
      "475                                                   NaN    Customer   \n",
      "513                               Church St at Duboce Ave  Subscriber   \n",
      "546                            Lombard St at Columbus Ave    Customer   \n",
      "547                                   Folsom St at 9th St  Subscriber   \n",
      "559                            Webster St at O'Farrell St  Subscriber   \n",
      "617                                   S Park St at 3rd St    Customer   \n",
      "641                                 19th St at Florida St    Customer   \n",
      "703                                29th St at Tiffany Ave    Customer   \n",
      "726                                  20th St at Bryant St  Subscriber   \n",
      "768                          The Embarcadero at Bryant St  Subscriber   \n",
      "777                            Webster St at O'Farrell St    Customer   \n",
      "778                               Grand Ave at Perkins St    Customer   \n",
      "...                                                   ...         ...   \n",
      "187764   Montgomery St BART Station (Market St at 2nd St)  Subscriber   \n",
      "187772                         Washington St at Kearny St  Subscriber   \n",
      "187787                                Frank H Ogawa Plaza    Customer   \n",
      "187819                               7th St at Brannan St  Subscriber   \n",
      "187859                      O'Farrell St at Divisadero St    Customer   \n",
      "187887                           19th Street BART Station  Subscriber   \n",
      "187945      San Francisco City Hall (Polk St at Grove St)    Customer   \n",
      "187972                                1st St at Folsom St  Subscriber   \n",
      "187980                                  4th St at 16th St    Customer   \n",
      "187994                            Beale St at Harrison St  Subscriber   \n",
      "187999   Embarcadero BART Station (Beale St at Market St)  Subscriber   \n",
      "188003  San Francisco Caltrain Station 2  (Townsend St...  Subscriber   \n",
      "188032                             Valencia St at 22nd St    Customer   \n",
      "188048                                  4th St at 16th St  Subscriber   \n",
      "188062                           San Jose Diridon Station  Subscriber   \n",
      "188066                                 Irwin St at 8th St  Subscriber   \n",
      "188077                              Hubbell St at 16th St  Subscriber   \n",
      "188080       Powell St BART Station (Market St at 5th St)  Subscriber   \n",
      "188083                        Valencia St at Clinton Park    Customer   \n",
      "188094                             Valencia St at 22nd St  Subscriber   \n",
      "188149                            Steuart St at Market St  Subscriber   \n",
      "188154                               Market St at 10th St  Subscriber   \n",
      "188174                     Commercial St at Montgomery St    Customer   \n",
      "188178                                   5th St at Folsom    Customer   \n",
      "188200                               Market St at 10th St    Customer   \n",
      "188222                            Haste St at College Ave    Customer   \n",
      "188224                               20th St at Bryant St  Subscriber   \n",
      "188231                             Valencia St at 22nd St    Customer   \n",
      "188239                           Market St at Franklin St    Customer   \n",
      "188270                               Mission Dolores Park  Subscriber   \n",
      "\n",
      "        member_birth_year member_gender bike_share_for_all_trip  duration_min  \n",
      "1                     NaN           NaN                      No    708.683333  \n",
      "13                    NaN           NaN                      No     15.250000  \n",
      "28                    NaN           NaN                      No     10.833333  \n",
      "53                    NaN           NaN                      No     56.966667  \n",
      "65                    NaN           NaN                      No     15.433333  \n",
      "147                   NaN           NaN                      No      6.200000  \n",
      "176                   NaN           NaN                      No     12.166667  \n",
      "220                   NaN           NaN                      No     23.750000  \n",
      "266                   NaN           NaN                      No     21.700000  \n",
      "292                   NaN           NaN                      No     24.466667  \n",
      "323                   NaN           NaN                      No      4.583333  \n",
      "329                   NaN           NaN                      No     10.233333  \n",
      "369                   NaN           NaN                      No     13.066667  \n",
      "371                   NaN           NaN                      No      5.333333  \n",
      "407                   NaN           NaN                      No      6.366667  \n",
      "422                   NaN           NaN                      No      7.700000  \n",
      "456                   NaN           NaN                      No      9.916667  \n",
      "472                   NaN           NaN                      No      7.933333  \n",
      "475                1991.0        Female                      No     28.483333  \n",
      "513                   NaN           NaN                      No      4.600000  \n",
      "546                   NaN           NaN                      No    368.116667  \n",
      "547                   NaN           NaN                      No     20.400000  \n",
      "559                   NaN           NaN                      No      7.116667  \n",
      "617                   NaN           NaN                      No     20.983333  \n",
      "641                   NaN           NaN                      No      8.366667  \n",
      "703                   NaN           NaN                      No     10.066667  \n",
      "726                   NaN           NaN                      No      2.500000  \n",
      "768                   NaN           NaN                      No      7.866667  \n",
      "777                   NaN           NaN                      No     14.116667  \n",
      "778                   NaN           NaN                      No      8.950000  \n",
      "...                   ...           ...                     ...           ...  \n",
      "187764                NaN           NaN                      No     13.650000  \n",
      "187772                NaN           NaN                      No      7.666667  \n",
      "187787                NaN           NaN                      No     19.566667  \n",
      "187819                NaN           NaN                      No      3.016667  \n",
      "187859                NaN           NaN                      No     19.266667  \n",
      "187887                NaN           NaN                      No      5.316667  \n",
      "187945                NaN           NaN                      No      7.583333  \n",
      "187972                NaN           NaN                      No     18.933333  \n",
      "187980                NaN           NaN                      No     11.900000  \n",
      "187994                NaN           NaN                      No      5.900000  \n",
      "187999                NaN           NaN                      No      5.600000  \n",
      "188003                NaN           NaN                      No      9.700000  \n",
      "188032                NaN           NaN                      No      8.083333  \n",
      "188048                NaN           NaN                      No      3.116667  \n",
      "188062                NaN           NaN                      No      8.466667  \n",
      "188066                NaN           NaN                      No      1.133333  \n",
      "188077                NaN           NaN                      No      5.100000  \n",
      "188080                NaN           NaN                      No     11.316667  \n",
      "188083                NaN           NaN                      No    299.216667  \n",
      "188094                NaN           NaN                      No      8.483333  \n",
      "188149                NaN           NaN                      No     11.283333  \n",
      "188154                NaN           NaN                      No     11.983333  \n",
      "188174                NaN           NaN                      No    220.850000  \n",
      "188178                NaN           NaN                      No     24.166667  \n",
      "188200                NaN           NaN                      No     13.800000  \n",
      "188222                NaN           NaN                      No      7.483333  \n",
      "188224                NaN           NaN                      No     13.250000  \n",
      "188231                NaN           NaN                      No     11.216667  \n",
      "188239                NaN           NaN                      No      3.266667  \n",
      "188270                NaN           NaN                      No      2.033333  \n",
      "\n",
      "[8688 rows x 9 columns]\n"
     ]
    }
   ],
   "source": [
    "is_NaN = df_copy.isnull()\n",
    "row_has_NaN = is_NaN.any(axis=1)\n",
    "rows_with_NaN = df[row_has_NaN]\n",
    "\n",
    "print(rows_with_NaN)"
   ]
  },
  {
   "cell_type": "code",
   "execution_count": 17,
   "metadata": {},
   "outputs": [],
   "source": [
    "df_copy.dropna(inplace=True)"
   ]
  },
  {
   "cell_type": "code",
   "execution_count": 18,
   "metadata": {},
   "outputs": [
    {
     "data": {
      "text/plain": [
       "start_time                 0\n",
       "end_time                   0\n",
       "start_station_name         0\n",
       "end_station_name           0\n",
       "user_type                  0\n",
       "member_birth_year          0\n",
       "member_gender              0\n",
       "bike_share_for_all_trip    0\n",
       "duration_min               0\n",
       "dtype: int64"
      ]
     },
     "execution_count": 18,
     "metadata": {},
     "output_type": "execute_result"
    }
   ],
   "source": [
    "# Dropping Nan confirmation\n",
    "df_copy.isnull().sum()"
   ]
  },
  {
   "cell_type": "code",
   "execution_count": 19,
   "metadata": {},
   "outputs": [
    {
     "name": "stdout",
     "output_type": "stream",
     "text": [
      "<class 'pandas.core.frame.DataFrame'>\n",
      "Int64Index: 179592 entries, 0 to 188279\n",
      "Data columns (total 9 columns):\n",
      "start_time                 179592 non-null object\n",
      "end_time                   179592 non-null object\n",
      "start_station_name         179592 non-null object\n",
      "end_station_name           179592 non-null object\n",
      "user_type                  179592 non-null object\n",
      "member_birth_year          179592 non-null float64\n",
      "member_gender              179592 non-null object\n",
      "bike_share_for_all_trip    179592 non-null object\n",
      "duration_min               179592 non-null float64\n",
      "dtypes: float64(2), object(7)\n",
      "memory usage: 13.7+ MB\n"
     ]
    }
   ],
   "source": [
    "# Confirming the removal of null in the data set\n",
    "df_copy.info()"
   ]
  },
  {
   "cell_type": "code",
   "execution_count": 20,
   "metadata": {
    "scrolled": true
   },
   "outputs": [
    {
     "data": {
      "text/html": [
       "<div>\n",
       "<style scoped>\n",
       "    .dataframe tbody tr th:only-of-type {\n",
       "        vertical-align: middle;\n",
       "    }\n",
       "\n",
       "    .dataframe tbody tr th {\n",
       "        vertical-align: top;\n",
       "    }\n",
       "\n",
       "    .dataframe thead th {\n",
       "        text-align: right;\n",
       "    }\n",
       "</style>\n",
       "<table border=\"1\" class=\"dataframe\">\n",
       "  <thead>\n",
       "    <tr style=\"text-align: right;\">\n",
       "      <th></th>\n",
       "      <th>start_time</th>\n",
       "      <th>end_time</th>\n",
       "      <th>start_station_name</th>\n",
       "      <th>end_station_name</th>\n",
       "      <th>user_type</th>\n",
       "      <th>member_birth_year</th>\n",
       "      <th>member_gender</th>\n",
       "      <th>bike_share_for_all_trip</th>\n",
       "      <th>duration_min</th>\n",
       "    </tr>\n",
       "  </thead>\n",
       "  <tbody>\n",
       "    <tr>\n",
       "      <th>0</th>\n",
       "      <td>2019-02-28 17:32:10.1450</td>\n",
       "      <td>2019-03-01 08:01:55.9750</td>\n",
       "      <td>Montgomery St BART Station (Market St at 2nd St)</td>\n",
       "      <td>Commercial St at Montgomery St</td>\n",
       "      <td>Customer</td>\n",
       "      <td>1984.0</td>\n",
       "      <td>Male</td>\n",
       "      <td>No</td>\n",
       "      <td>869.750000</td>\n",
       "    </tr>\n",
       "    <tr>\n",
       "      <th>2</th>\n",
       "      <td>2019-02-28 12:13:13.2180</td>\n",
       "      <td>2019-03-01 05:24:08.1460</td>\n",
       "      <td>Market St at Dolores St</td>\n",
       "      <td>Powell St BART Station (Market St at 4th St)</td>\n",
       "      <td>Customer</td>\n",
       "      <td>1972.0</td>\n",
       "      <td>Male</td>\n",
       "      <td>No</td>\n",
       "      <td>1030.900000</td>\n",
       "    </tr>\n",
       "    <tr>\n",
       "      <th>3</th>\n",
       "      <td>2019-02-28 17:54:26.0100</td>\n",
       "      <td>2019-03-01 04:02:36.8420</td>\n",
       "      <td>Grove St at Masonic Ave</td>\n",
       "      <td>Central Ave at Fell St</td>\n",
       "      <td>Subscriber</td>\n",
       "      <td>1989.0</td>\n",
       "      <td>Other</td>\n",
       "      <td>No</td>\n",
       "      <td>608.166667</td>\n",
       "    </tr>\n",
       "    <tr>\n",
       "      <th>4</th>\n",
       "      <td>2019-02-28 23:54:18.5490</td>\n",
       "      <td>2019-03-01 00:20:44.0740</td>\n",
       "      <td>Frank H Ogawa Plaza</td>\n",
       "      <td>10th Ave at E 15th St</td>\n",
       "      <td>Subscriber</td>\n",
       "      <td>1974.0</td>\n",
       "      <td>Male</td>\n",
       "      <td>Yes</td>\n",
       "      <td>26.416667</td>\n",
       "    </tr>\n",
       "    <tr>\n",
       "      <th>5</th>\n",
       "      <td>2019-02-28 23:49:58.6320</td>\n",
       "      <td>2019-03-01 00:19:51.7600</td>\n",
       "      <td>4th St at Mission Bay Blvd S</td>\n",
       "      <td>Broadway at Kearny</td>\n",
       "      <td>Subscriber</td>\n",
       "      <td>1959.0</td>\n",
       "      <td>Male</td>\n",
       "      <td>No</td>\n",
       "      <td>29.883333</td>\n",
       "    </tr>\n",
       "  </tbody>\n",
       "</table>\n",
       "</div>"
      ],
      "text/plain": [
       "                 start_time                  end_time  \\\n",
       "0  2019-02-28 17:32:10.1450  2019-03-01 08:01:55.9750   \n",
       "2  2019-02-28 12:13:13.2180  2019-03-01 05:24:08.1460   \n",
       "3  2019-02-28 17:54:26.0100  2019-03-01 04:02:36.8420   \n",
       "4  2019-02-28 23:54:18.5490  2019-03-01 00:20:44.0740   \n",
       "5  2019-02-28 23:49:58.6320  2019-03-01 00:19:51.7600   \n",
       "\n",
       "                                 start_station_name  \\\n",
       "0  Montgomery St BART Station (Market St at 2nd St)   \n",
       "2                           Market St at Dolores St   \n",
       "3                           Grove St at Masonic Ave   \n",
       "4                               Frank H Ogawa Plaza   \n",
       "5                      4th St at Mission Bay Blvd S   \n",
       "\n",
       "                               end_station_name   user_type  \\\n",
       "0                Commercial St at Montgomery St    Customer   \n",
       "2  Powell St BART Station (Market St at 4th St)    Customer   \n",
       "3                        Central Ave at Fell St  Subscriber   \n",
       "4                         10th Ave at E 15th St  Subscriber   \n",
       "5                            Broadway at Kearny  Subscriber   \n",
       "\n",
       "   member_birth_year member_gender bike_share_for_all_trip  duration_min  \n",
       "0             1984.0          Male                      No    869.750000  \n",
       "2             1972.0          Male                      No   1030.900000  \n",
       "3             1989.0         Other                      No    608.166667  \n",
       "4             1974.0          Male                     Yes     26.416667  \n",
       "5             1959.0          Male                      No     29.883333  "
      ]
     },
     "execution_count": 20,
     "metadata": {},
     "output_type": "execute_result"
    }
   ],
   "source": [
    "df_copy.head(5)"
   ]
  },
  {
   "cell_type": "markdown",
   "metadata": {},
   "source": [
    "#### Extracting date and time from start and end time into (four) columns for start and end (time and date)."
   ]
  },
  {
   "cell_type": "code",
   "execution_count": 21,
   "metadata": {},
   "outputs": [],
   "source": [
    "df_copy['start_date'] = pd.to_datetime(df_copy['start_time']).dt.date\n",
    "df_copy['start_time'] = pd.to_datetime(df_copy['start_time']).dt.time"
   ]
  },
  {
   "cell_type": "code",
   "execution_count": 22,
   "metadata": {},
   "outputs": [],
   "source": [
    "df_copy['end_date'] = pd.to_datetime(df_copy['end_time']).dt.date\n",
    "df_copy['end_time'] = pd.to_datetime(df_copy['end_time']).dt.time"
   ]
  },
  {
   "cell_type": "code",
   "execution_count": 23,
   "metadata": {},
   "outputs": [
    {
     "data": {
      "text/html": [
       "<div>\n",
       "<style scoped>\n",
       "    .dataframe tbody tr th:only-of-type {\n",
       "        vertical-align: middle;\n",
       "    }\n",
       "\n",
       "    .dataframe tbody tr th {\n",
       "        vertical-align: top;\n",
       "    }\n",
       "\n",
       "    .dataframe thead th {\n",
       "        text-align: right;\n",
       "    }\n",
       "</style>\n",
       "<table border=\"1\" class=\"dataframe\">\n",
       "  <thead>\n",
       "    <tr style=\"text-align: right;\">\n",
       "      <th></th>\n",
       "      <th>start_time</th>\n",
       "      <th>end_time</th>\n",
       "      <th>start_station_name</th>\n",
       "      <th>end_station_name</th>\n",
       "      <th>user_type</th>\n",
       "      <th>member_birth_year</th>\n",
       "      <th>member_gender</th>\n",
       "      <th>bike_share_for_all_trip</th>\n",
       "      <th>duration_min</th>\n",
       "      <th>start_date</th>\n",
       "      <th>end_date</th>\n",
       "      <th>start_day</th>\n",
       "      <th>end_day</th>\n",
       "    </tr>\n",
       "  </thead>\n",
       "  <tbody>\n",
       "    <tr>\n",
       "      <th>0</th>\n",
       "      <td>17:32:10.145000</td>\n",
       "      <td>08:01:55.975000</td>\n",
       "      <td>Montgomery St BART Station (Market St at 2nd St)</td>\n",
       "      <td>Commercial St at Montgomery St</td>\n",
       "      <td>Customer</td>\n",
       "      <td>1984.0</td>\n",
       "      <td>Male</td>\n",
       "      <td>No</td>\n",
       "      <td>869.750000</td>\n",
       "      <td>2019-02-28</td>\n",
       "      <td>2019-03-01</td>\n",
       "      <td>28</td>\n",
       "      <td>1</td>\n",
       "    </tr>\n",
       "    <tr>\n",
       "      <th>2</th>\n",
       "      <td>12:13:13.218000</td>\n",
       "      <td>05:24:08.146000</td>\n",
       "      <td>Market St at Dolores St</td>\n",
       "      <td>Powell St BART Station (Market St at 4th St)</td>\n",
       "      <td>Customer</td>\n",
       "      <td>1972.0</td>\n",
       "      <td>Male</td>\n",
       "      <td>No</td>\n",
       "      <td>1030.900000</td>\n",
       "      <td>2019-02-28</td>\n",
       "      <td>2019-03-01</td>\n",
       "      <td>28</td>\n",
       "      <td>1</td>\n",
       "    </tr>\n",
       "    <tr>\n",
       "      <th>3</th>\n",
       "      <td>17:54:26.010000</td>\n",
       "      <td>04:02:36.842000</td>\n",
       "      <td>Grove St at Masonic Ave</td>\n",
       "      <td>Central Ave at Fell St</td>\n",
       "      <td>Subscriber</td>\n",
       "      <td>1989.0</td>\n",
       "      <td>Other</td>\n",
       "      <td>No</td>\n",
       "      <td>608.166667</td>\n",
       "      <td>2019-02-28</td>\n",
       "      <td>2019-03-01</td>\n",
       "      <td>28</td>\n",
       "      <td>1</td>\n",
       "    </tr>\n",
       "    <tr>\n",
       "      <th>4</th>\n",
       "      <td>23:54:18.549000</td>\n",
       "      <td>00:20:44.074000</td>\n",
       "      <td>Frank H Ogawa Plaza</td>\n",
       "      <td>10th Ave at E 15th St</td>\n",
       "      <td>Subscriber</td>\n",
       "      <td>1974.0</td>\n",
       "      <td>Male</td>\n",
       "      <td>Yes</td>\n",
       "      <td>26.416667</td>\n",
       "      <td>2019-02-28</td>\n",
       "      <td>2019-03-01</td>\n",
       "      <td>28</td>\n",
       "      <td>1</td>\n",
       "    </tr>\n",
       "    <tr>\n",
       "      <th>5</th>\n",
       "      <td>23:49:58.632000</td>\n",
       "      <td>00:19:51.760000</td>\n",
       "      <td>4th St at Mission Bay Blvd S</td>\n",
       "      <td>Broadway at Kearny</td>\n",
       "      <td>Subscriber</td>\n",
       "      <td>1959.0</td>\n",
       "      <td>Male</td>\n",
       "      <td>No</td>\n",
       "      <td>29.883333</td>\n",
       "      <td>2019-02-28</td>\n",
       "      <td>2019-03-01</td>\n",
       "      <td>28</td>\n",
       "      <td>1</td>\n",
       "    </tr>\n",
       "  </tbody>\n",
       "</table>\n",
       "</div>"
      ],
      "text/plain": [
       "        start_time         end_time  \\\n",
       "0  17:32:10.145000  08:01:55.975000   \n",
       "2  12:13:13.218000  05:24:08.146000   \n",
       "3  17:54:26.010000  04:02:36.842000   \n",
       "4  23:54:18.549000  00:20:44.074000   \n",
       "5  23:49:58.632000  00:19:51.760000   \n",
       "\n",
       "                                 start_station_name  \\\n",
       "0  Montgomery St BART Station (Market St at 2nd St)   \n",
       "2                           Market St at Dolores St   \n",
       "3                           Grove St at Masonic Ave   \n",
       "4                               Frank H Ogawa Plaza   \n",
       "5                      4th St at Mission Bay Blvd S   \n",
       "\n",
       "                               end_station_name   user_type  \\\n",
       "0                Commercial St at Montgomery St    Customer   \n",
       "2  Powell St BART Station (Market St at 4th St)    Customer   \n",
       "3                        Central Ave at Fell St  Subscriber   \n",
       "4                         10th Ave at E 15th St  Subscriber   \n",
       "5                            Broadway at Kearny  Subscriber   \n",
       "\n",
       "   member_birth_year member_gender bike_share_for_all_trip  duration_min  \\\n",
       "0             1984.0          Male                      No    869.750000   \n",
       "2             1972.0          Male                      No   1030.900000   \n",
       "3             1989.0         Other                      No    608.166667   \n",
       "4             1974.0          Male                     Yes     26.416667   \n",
       "5             1959.0          Male                      No     29.883333   \n",
       "\n",
       "   start_date    end_date  start_day  end_day  \n",
       "0  2019-02-28  2019-03-01         28        1  \n",
       "2  2019-02-28  2019-03-01         28        1  \n",
       "3  2019-02-28  2019-03-01         28        1  \n",
       "4  2019-02-28  2019-03-01         28        1  \n",
       "5  2019-02-28  2019-03-01         28        1  "
      ]
     },
     "execution_count": 23,
     "metadata": {},
     "output_type": "execute_result"
    }
   ],
   "source": [
    "df_copy['start_day'] = df_copy['start_date'].apply(lambda r:r.day).astype(int)\n",
    "df_copy['end_day'] = df_copy['end_date'].apply(lambda r:r.day).astype(int)\n",
    "\n",
    "df_copy.head(5)"
   ]
  },
  {
   "cell_type": "code",
   "execution_count": 24,
   "metadata": {},
   "outputs": [
    {
     "name": "stdout",
     "output_type": "stream",
     "text": [
      "<class 'pandas.core.frame.DataFrame'>\n",
      "Int64Index: 179592 entries, 0 to 188279\n",
      "Data columns (total 13 columns):\n",
      "start_time                 179592 non-null object\n",
      "end_time                   179592 non-null object\n",
      "start_station_name         179592 non-null object\n",
      "end_station_name           179592 non-null object\n",
      "user_type                  179592 non-null object\n",
      "member_birth_year          179592 non-null float64\n",
      "member_gender              179592 non-null object\n",
      "bike_share_for_all_trip    179592 non-null object\n",
      "duration_min               179592 non-null float64\n",
      "start_date                 179592 non-null object\n",
      "end_date                   179592 non-null object\n",
      "start_day                  179592 non-null int64\n",
      "end_day                    179592 non-null int64\n",
      "dtypes: float64(2), int64(2), object(9)\n",
      "memory usage: 19.2+ MB\n"
     ]
    }
   ],
   "source": [
    "df_copy.info()"
   ]
  },
  {
   "cell_type": "markdown",
   "metadata": {},
   "source": [
    "#### Changing Start date and End date columns into datetime formate."
   ]
  },
  {
   "cell_type": "code",
   "execution_count": 25,
   "metadata": {},
   "outputs": [],
   "source": [
    "df_copy['start_date'] = pd.to_datetime(df_copy['start_date'])\n",
    "df_copy['end_date'] = pd.to_datetime(df_copy['end_date'])"
   ]
  },
  {
   "cell_type": "code",
   "execution_count": 26,
   "metadata": {},
   "outputs": [
    {
     "data": {
      "text/plain": [
       "start_time                         object\n",
       "end_time                           object\n",
       "start_station_name                 object\n",
       "end_station_name                   object\n",
       "user_type                          object\n",
       "member_birth_year                 float64\n",
       "member_gender                      object\n",
       "bike_share_for_all_trip            object\n",
       "duration_min                      float64\n",
       "start_date                 datetime64[ns]\n",
       "end_date                   datetime64[ns]\n",
       "start_day                           int64\n",
       "end_day                             int64\n",
       "dtype: object"
      ]
     },
     "execution_count": 26,
     "metadata": {},
     "output_type": "execute_result"
    }
   ],
   "source": [
    "df_copy.dtypes"
   ]
  },
  {
   "cell_type": "code",
   "execution_count": 27,
   "metadata": {},
   "outputs": [
    {
     "name": "stdout",
     "output_type": "stream",
     "text": [
      "<class 'pandas.core.frame.DataFrame'>\n",
      "Int64Index: 179592 entries, 0 to 188279\n",
      "Data columns (total 13 columns):\n",
      "start_time                 179592 non-null object\n",
      "end_time                   179592 non-null object\n",
      "start_station_name         179592 non-null object\n",
      "end_station_name           179592 non-null object\n",
      "user_type                  179592 non-null object\n",
      "member_birth_year          179592 non-null float64\n",
      "member_gender              179592 non-null object\n",
      "bike_share_for_all_trip    179592 non-null object\n",
      "duration_min               179592 non-null float64\n",
      "start_date                 179592 non-null datetime64[ns]\n",
      "end_date                   179592 non-null datetime64[ns]\n",
      "start_day                  179592 non-null int64\n",
      "end_day                    179592 non-null int64\n",
      "dtypes: datetime64[ns](2), float64(2), int64(2), object(7)\n",
      "memory usage: 19.2+ MB\n"
     ]
    }
   ],
   "source": [
    "df_copy.info()"
   ]
  },
  {
   "cell_type": "markdown",
   "metadata": {},
   "source": [
    "#### Extracting start and end day of the week from start date and end date columns."
   ]
  },
  {
   "cell_type": "code",
   "execution_count": 28,
   "metadata": {},
   "outputs": [],
   "source": [
    "df_copy['start_day_of_trip'] = df_copy[['start_date']].apply(lambda x: dt.datetime.strftime(x['start_date'], '%A'), axis=1)\n"
   ]
  },
  {
   "cell_type": "code",
   "execution_count": 29,
   "metadata": {},
   "outputs": [],
   "source": [
    "df_copy['end_day_of_trip'] = df_copy[['end_date']].apply(lambda x: dt.datetime.strftime(x['end_date'], '%A'), axis=1)"
   ]
  },
  {
   "cell_type": "code",
   "execution_count": 30,
   "metadata": {},
   "outputs": [
    {
     "data": {
      "text/html": [
       "<div>\n",
       "<style scoped>\n",
       "    .dataframe tbody tr th:only-of-type {\n",
       "        vertical-align: middle;\n",
       "    }\n",
       "\n",
       "    .dataframe tbody tr th {\n",
       "        vertical-align: top;\n",
       "    }\n",
       "\n",
       "    .dataframe thead th {\n",
       "        text-align: right;\n",
       "    }\n",
       "</style>\n",
       "<table border=\"1\" class=\"dataframe\">\n",
       "  <thead>\n",
       "    <tr style=\"text-align: right;\">\n",
       "      <th></th>\n",
       "      <th>start_time</th>\n",
       "      <th>end_time</th>\n",
       "      <th>start_station_name</th>\n",
       "      <th>end_station_name</th>\n",
       "      <th>user_type</th>\n",
       "      <th>member_birth_year</th>\n",
       "      <th>member_gender</th>\n",
       "      <th>bike_share_for_all_trip</th>\n",
       "      <th>duration_min</th>\n",
       "      <th>start_date</th>\n",
       "      <th>end_date</th>\n",
       "      <th>start_day</th>\n",
       "      <th>end_day</th>\n",
       "      <th>start_day_of_trip</th>\n",
       "      <th>end_day_of_trip</th>\n",
       "    </tr>\n",
       "  </thead>\n",
       "  <tbody>\n",
       "    <tr>\n",
       "      <th>0</th>\n",
       "      <td>17:32:10.145000</td>\n",
       "      <td>08:01:55.975000</td>\n",
       "      <td>Montgomery St BART Station (Market St at 2nd St)</td>\n",
       "      <td>Commercial St at Montgomery St</td>\n",
       "      <td>Customer</td>\n",
       "      <td>1984.0</td>\n",
       "      <td>Male</td>\n",
       "      <td>No</td>\n",
       "      <td>869.750000</td>\n",
       "      <td>2019-02-28</td>\n",
       "      <td>2019-03-01</td>\n",
       "      <td>28</td>\n",
       "      <td>1</td>\n",
       "      <td>Thursday</td>\n",
       "      <td>Friday</td>\n",
       "    </tr>\n",
       "    <tr>\n",
       "      <th>2</th>\n",
       "      <td>12:13:13.218000</td>\n",
       "      <td>05:24:08.146000</td>\n",
       "      <td>Market St at Dolores St</td>\n",
       "      <td>Powell St BART Station (Market St at 4th St)</td>\n",
       "      <td>Customer</td>\n",
       "      <td>1972.0</td>\n",
       "      <td>Male</td>\n",
       "      <td>No</td>\n",
       "      <td>1030.900000</td>\n",
       "      <td>2019-02-28</td>\n",
       "      <td>2019-03-01</td>\n",
       "      <td>28</td>\n",
       "      <td>1</td>\n",
       "      <td>Thursday</td>\n",
       "      <td>Friday</td>\n",
       "    </tr>\n",
       "    <tr>\n",
       "      <th>3</th>\n",
       "      <td>17:54:26.010000</td>\n",
       "      <td>04:02:36.842000</td>\n",
       "      <td>Grove St at Masonic Ave</td>\n",
       "      <td>Central Ave at Fell St</td>\n",
       "      <td>Subscriber</td>\n",
       "      <td>1989.0</td>\n",
       "      <td>Other</td>\n",
       "      <td>No</td>\n",
       "      <td>608.166667</td>\n",
       "      <td>2019-02-28</td>\n",
       "      <td>2019-03-01</td>\n",
       "      <td>28</td>\n",
       "      <td>1</td>\n",
       "      <td>Thursday</td>\n",
       "      <td>Friday</td>\n",
       "    </tr>\n",
       "    <tr>\n",
       "      <th>4</th>\n",
       "      <td>23:54:18.549000</td>\n",
       "      <td>00:20:44.074000</td>\n",
       "      <td>Frank H Ogawa Plaza</td>\n",
       "      <td>10th Ave at E 15th St</td>\n",
       "      <td>Subscriber</td>\n",
       "      <td>1974.0</td>\n",
       "      <td>Male</td>\n",
       "      <td>Yes</td>\n",
       "      <td>26.416667</td>\n",
       "      <td>2019-02-28</td>\n",
       "      <td>2019-03-01</td>\n",
       "      <td>28</td>\n",
       "      <td>1</td>\n",
       "      <td>Thursday</td>\n",
       "      <td>Friday</td>\n",
       "    </tr>\n",
       "    <tr>\n",
       "      <th>5</th>\n",
       "      <td>23:49:58.632000</td>\n",
       "      <td>00:19:51.760000</td>\n",
       "      <td>4th St at Mission Bay Blvd S</td>\n",
       "      <td>Broadway at Kearny</td>\n",
       "      <td>Subscriber</td>\n",
       "      <td>1959.0</td>\n",
       "      <td>Male</td>\n",
       "      <td>No</td>\n",
       "      <td>29.883333</td>\n",
       "      <td>2019-02-28</td>\n",
       "      <td>2019-03-01</td>\n",
       "      <td>28</td>\n",
       "      <td>1</td>\n",
       "      <td>Thursday</td>\n",
       "      <td>Friday</td>\n",
       "    </tr>\n",
       "  </tbody>\n",
       "</table>\n",
       "</div>"
      ],
      "text/plain": [
       "        start_time         end_time  \\\n",
       "0  17:32:10.145000  08:01:55.975000   \n",
       "2  12:13:13.218000  05:24:08.146000   \n",
       "3  17:54:26.010000  04:02:36.842000   \n",
       "4  23:54:18.549000  00:20:44.074000   \n",
       "5  23:49:58.632000  00:19:51.760000   \n",
       "\n",
       "                                 start_station_name  \\\n",
       "0  Montgomery St BART Station (Market St at 2nd St)   \n",
       "2                           Market St at Dolores St   \n",
       "3                           Grove St at Masonic Ave   \n",
       "4                               Frank H Ogawa Plaza   \n",
       "5                      4th St at Mission Bay Blvd S   \n",
       "\n",
       "                               end_station_name   user_type  \\\n",
       "0                Commercial St at Montgomery St    Customer   \n",
       "2  Powell St BART Station (Market St at 4th St)    Customer   \n",
       "3                        Central Ave at Fell St  Subscriber   \n",
       "4                         10th Ave at E 15th St  Subscriber   \n",
       "5                            Broadway at Kearny  Subscriber   \n",
       "\n",
       "   member_birth_year member_gender bike_share_for_all_trip  duration_min  \\\n",
       "0             1984.0          Male                      No    869.750000   \n",
       "2             1972.0          Male                      No   1030.900000   \n",
       "3             1989.0         Other                      No    608.166667   \n",
       "4             1974.0          Male                     Yes     26.416667   \n",
       "5             1959.0          Male                      No     29.883333   \n",
       "\n",
       "  start_date   end_date  start_day  end_day start_day_of_trip end_day_of_trip  \n",
       "0 2019-02-28 2019-03-01         28        1          Thursday          Friday  \n",
       "2 2019-02-28 2019-03-01         28        1          Thursday          Friday  \n",
       "3 2019-02-28 2019-03-01         28        1          Thursday          Friday  \n",
       "4 2019-02-28 2019-03-01         28        1          Thursday          Friday  \n",
       "5 2019-02-28 2019-03-01         28        1          Thursday          Friday  "
      ]
     },
     "execution_count": 30,
     "metadata": {},
     "output_type": "execute_result"
    }
   ],
   "source": [
    "df_copy.head()"
   ]
  },
  {
   "cell_type": "markdown",
   "metadata": {},
   "source": [
    "#### Changing the member_birth_year column into (int) to extract the year from."
   ]
  },
  {
   "cell_type": "code",
   "execution_count": 31,
   "metadata": {},
   "outputs": [],
   "source": [
    "df['member_birth_year'] = pd.to_numeric(df['member_birth_year'])"
   ]
  },
  {
   "cell_type": "code",
   "execution_count": 32,
   "metadata": {},
   "outputs": [
    {
     "data": {
      "text/plain": [
       "0         1984\n",
       "2         1972\n",
       "3         1989\n",
       "4         1974\n",
       "5         1959\n",
       "6         1983\n",
       "7         1989\n",
       "8         1988\n",
       "9         1992\n",
       "10        1996\n",
       "11        1993\n",
       "12        1990\n",
       "14        1988\n",
       "15        1993\n",
       "16        1981\n",
       "17        1975\n",
       "18        1990\n",
       "19        1978\n",
       "20        1983\n",
       "21        1984\n",
       "22        1991\n",
       "23        1997\n",
       "24        1975\n",
       "25        1986\n",
       "26        2000\n",
       "27        1982\n",
       "29        1995\n",
       "30        1996\n",
       "31        1993\n",
       "32        1980\n",
       "          ... \n",
       "188249    1997\n",
       "188250    1988\n",
       "188251    1997\n",
       "188252    1991\n",
       "188253    1945\n",
       "188254    1998\n",
       "188255    1999\n",
       "188256    1927\n",
       "188257    1985\n",
       "188258    1999\n",
       "188259    1980\n",
       "188260    1993\n",
       "188261    1985\n",
       "188262    1975\n",
       "188263    1993\n",
       "188264    1991\n",
       "188265    1988\n",
       "188266    1982\n",
       "188267    1993\n",
       "188268    1984\n",
       "188269    1991\n",
       "188271    2000\n",
       "188272    1980\n",
       "188273    1984\n",
       "188274    1988\n",
       "188275    1996\n",
       "188276    1984\n",
       "188277    1990\n",
       "188278    1988\n",
       "188279    1989\n",
       "Name: member_birth_year, Length: 179592, dtype: int64"
      ]
     },
     "execution_count": 32,
     "metadata": {},
     "output_type": "execute_result"
    }
   ],
   "source": [
    "df['member_birth_year'].astype(int)"
   ]
  },
  {
   "cell_type": "markdown",
   "metadata": {},
   "source": [
    "#### developing a new column called (age)"
   ]
  },
  {
   "cell_type": "code",
   "execution_count": 33,
   "metadata": {},
   "outputs": [],
   "source": [
    "df_copy['age'] = 2019 - df_copy['member_birth_year']"
   ]
  },
  {
   "cell_type": "code",
   "execution_count": 34,
   "metadata": {},
   "outputs": [
    {
     "name": "stdout",
     "output_type": "stream",
     "text": [
      "<class 'pandas.core.frame.DataFrame'>\n",
      "Int64Index: 179592 entries, 0 to 188279\n",
      "Data columns (total 16 columns):\n",
      "start_time                 179592 non-null object\n",
      "end_time                   179592 non-null object\n",
      "start_station_name         179592 non-null object\n",
      "end_station_name           179592 non-null object\n",
      "user_type                  179592 non-null object\n",
      "member_birth_year          179592 non-null float64\n",
      "member_gender              179592 non-null object\n",
      "bike_share_for_all_trip    179592 non-null object\n",
      "duration_min               179592 non-null float64\n",
      "start_date                 179592 non-null datetime64[ns]\n",
      "end_date                   179592 non-null datetime64[ns]\n",
      "start_day                  179592 non-null int64\n",
      "end_day                    179592 non-null int64\n",
      "start_day_of_trip          179592 non-null object\n",
      "end_day_of_trip            179592 non-null object\n",
      "age                        179592 non-null float64\n",
      "dtypes: datetime64[ns](2), float64(3), int64(2), object(9)\n",
      "memory usage: 23.3+ MB\n"
     ]
    }
   ],
   "source": [
    "df_copy.info()"
   ]
  },
  {
   "cell_type": "code",
   "execution_count": 35,
   "metadata": {},
   "outputs": [
    {
     "data": {
      "text/html": [
       "<div>\n",
       "<style scoped>\n",
       "    .dataframe tbody tr th:only-of-type {\n",
       "        vertical-align: middle;\n",
       "    }\n",
       "\n",
       "    .dataframe tbody tr th {\n",
       "        vertical-align: top;\n",
       "    }\n",
       "\n",
       "    .dataframe thead th {\n",
       "        text-align: right;\n",
       "    }\n",
       "</style>\n",
       "<table border=\"1\" class=\"dataframe\">\n",
       "  <thead>\n",
       "    <tr style=\"text-align: right;\">\n",
       "      <th></th>\n",
       "      <th>start_time</th>\n",
       "      <th>end_time</th>\n",
       "      <th>start_station_name</th>\n",
       "      <th>end_station_name</th>\n",
       "      <th>user_type</th>\n",
       "      <th>member_birth_year</th>\n",
       "      <th>member_gender</th>\n",
       "      <th>bike_share_for_all_trip</th>\n",
       "      <th>duration_min</th>\n",
       "      <th>start_date</th>\n",
       "      <th>end_date</th>\n",
       "      <th>start_day</th>\n",
       "      <th>end_day</th>\n",
       "      <th>start_day_of_trip</th>\n",
       "      <th>end_day_of_trip</th>\n",
       "      <th>age</th>\n",
       "    </tr>\n",
       "  </thead>\n",
       "  <tbody>\n",
       "    <tr>\n",
       "      <th>0</th>\n",
       "      <td>17:32:10.145000</td>\n",
       "      <td>08:01:55.975000</td>\n",
       "      <td>Montgomery St BART Station (Market St at 2nd St)</td>\n",
       "      <td>Commercial St at Montgomery St</td>\n",
       "      <td>Customer</td>\n",
       "      <td>1984.0</td>\n",
       "      <td>Male</td>\n",
       "      <td>No</td>\n",
       "      <td>869.750000</td>\n",
       "      <td>2019-02-28</td>\n",
       "      <td>2019-03-01</td>\n",
       "      <td>28</td>\n",
       "      <td>1</td>\n",
       "      <td>Thursday</td>\n",
       "      <td>Friday</td>\n",
       "      <td>35.0</td>\n",
       "    </tr>\n",
       "    <tr>\n",
       "      <th>2</th>\n",
       "      <td>12:13:13.218000</td>\n",
       "      <td>05:24:08.146000</td>\n",
       "      <td>Market St at Dolores St</td>\n",
       "      <td>Powell St BART Station (Market St at 4th St)</td>\n",
       "      <td>Customer</td>\n",
       "      <td>1972.0</td>\n",
       "      <td>Male</td>\n",
       "      <td>No</td>\n",
       "      <td>1030.900000</td>\n",
       "      <td>2019-02-28</td>\n",
       "      <td>2019-03-01</td>\n",
       "      <td>28</td>\n",
       "      <td>1</td>\n",
       "      <td>Thursday</td>\n",
       "      <td>Friday</td>\n",
       "      <td>47.0</td>\n",
       "    </tr>\n",
       "    <tr>\n",
       "      <th>3</th>\n",
       "      <td>17:54:26.010000</td>\n",
       "      <td>04:02:36.842000</td>\n",
       "      <td>Grove St at Masonic Ave</td>\n",
       "      <td>Central Ave at Fell St</td>\n",
       "      <td>Subscriber</td>\n",
       "      <td>1989.0</td>\n",
       "      <td>Other</td>\n",
       "      <td>No</td>\n",
       "      <td>608.166667</td>\n",
       "      <td>2019-02-28</td>\n",
       "      <td>2019-03-01</td>\n",
       "      <td>28</td>\n",
       "      <td>1</td>\n",
       "      <td>Thursday</td>\n",
       "      <td>Friday</td>\n",
       "      <td>30.0</td>\n",
       "    </tr>\n",
       "    <tr>\n",
       "      <th>4</th>\n",
       "      <td>23:54:18.549000</td>\n",
       "      <td>00:20:44.074000</td>\n",
       "      <td>Frank H Ogawa Plaza</td>\n",
       "      <td>10th Ave at E 15th St</td>\n",
       "      <td>Subscriber</td>\n",
       "      <td>1974.0</td>\n",
       "      <td>Male</td>\n",
       "      <td>Yes</td>\n",
       "      <td>26.416667</td>\n",
       "      <td>2019-02-28</td>\n",
       "      <td>2019-03-01</td>\n",
       "      <td>28</td>\n",
       "      <td>1</td>\n",
       "      <td>Thursday</td>\n",
       "      <td>Friday</td>\n",
       "      <td>45.0</td>\n",
       "    </tr>\n",
       "    <tr>\n",
       "      <th>5</th>\n",
       "      <td>23:49:58.632000</td>\n",
       "      <td>00:19:51.760000</td>\n",
       "      <td>4th St at Mission Bay Blvd S</td>\n",
       "      <td>Broadway at Kearny</td>\n",
       "      <td>Subscriber</td>\n",
       "      <td>1959.0</td>\n",
       "      <td>Male</td>\n",
       "      <td>No</td>\n",
       "      <td>29.883333</td>\n",
       "      <td>2019-02-28</td>\n",
       "      <td>2019-03-01</td>\n",
       "      <td>28</td>\n",
       "      <td>1</td>\n",
       "      <td>Thursday</td>\n",
       "      <td>Friday</td>\n",
       "      <td>60.0</td>\n",
       "    </tr>\n",
       "  </tbody>\n",
       "</table>\n",
       "</div>"
      ],
      "text/plain": [
       "        start_time         end_time  \\\n",
       "0  17:32:10.145000  08:01:55.975000   \n",
       "2  12:13:13.218000  05:24:08.146000   \n",
       "3  17:54:26.010000  04:02:36.842000   \n",
       "4  23:54:18.549000  00:20:44.074000   \n",
       "5  23:49:58.632000  00:19:51.760000   \n",
       "\n",
       "                                 start_station_name  \\\n",
       "0  Montgomery St BART Station (Market St at 2nd St)   \n",
       "2                           Market St at Dolores St   \n",
       "3                           Grove St at Masonic Ave   \n",
       "4                               Frank H Ogawa Plaza   \n",
       "5                      4th St at Mission Bay Blvd S   \n",
       "\n",
       "                               end_station_name   user_type  \\\n",
       "0                Commercial St at Montgomery St    Customer   \n",
       "2  Powell St BART Station (Market St at 4th St)    Customer   \n",
       "3                        Central Ave at Fell St  Subscriber   \n",
       "4                         10th Ave at E 15th St  Subscriber   \n",
       "5                            Broadway at Kearny  Subscriber   \n",
       "\n",
       "   member_birth_year member_gender bike_share_for_all_trip  duration_min  \\\n",
       "0             1984.0          Male                      No    869.750000   \n",
       "2             1972.0          Male                      No   1030.900000   \n",
       "3             1989.0         Other                      No    608.166667   \n",
       "4             1974.0          Male                     Yes     26.416667   \n",
       "5             1959.0          Male                      No     29.883333   \n",
       "\n",
       "  start_date   end_date  start_day  end_day start_day_of_trip end_day_of_trip  \\\n",
       "0 2019-02-28 2019-03-01         28        1          Thursday          Friday   \n",
       "2 2019-02-28 2019-03-01         28        1          Thursday          Friday   \n",
       "3 2019-02-28 2019-03-01         28        1          Thursday          Friday   \n",
       "4 2019-02-28 2019-03-01         28        1          Thursday          Friday   \n",
       "5 2019-02-28 2019-03-01         28        1          Thursday          Friday   \n",
       "\n",
       "    age  \n",
       "0  35.0  \n",
       "2  47.0  \n",
       "3  30.0  \n",
       "4  45.0  \n",
       "5  60.0  "
      ]
     },
     "execution_count": 35,
     "metadata": {},
     "output_type": "execute_result"
    }
   ],
   "source": [
    "df_copy.head()"
   ]
  },
  {
   "cell_type": "markdown",
   "metadata": {},
   "source": [
    "### The first step of data visualization, exploration  and explanation by configuring the various types of columns."
   ]
  },
  {
   "cell_type": "code",
   "execution_count": 36,
   "metadata": {},
   "outputs": [
    {
     "data": {
      "text/plain": [
       "Thursday     38020\n",
       "Tuesday      30584\n",
       "Wednesday    28426\n",
       "Friday       27995\n",
       "Monday       25641\n",
       "Sunday       14512\n",
       "Saturday     14414\n",
       "Name: start_day_of_trip, dtype: int64"
      ]
     },
     "execution_count": 36,
     "metadata": {},
     "output_type": "execute_result"
    }
   ],
   "source": [
    "df_copy['start_day_of_trip'].value_counts()"
   ]
  },
  {
   "cell_type": "code",
   "execution_count": 37,
   "metadata": {
    "scrolled": false
   },
   "outputs": [
    {
     "data": {
      "text/plain": [
       "Thursday     38010\n",
       "Tuesday      30591\n",
       "Wednesday    28417\n",
       "Friday       27992\n",
       "Monday       25641\n",
       "Sunday       14519\n",
       "Saturday     14422\n",
       "Name: end_day_of_trip, dtype: int64"
      ]
     },
     "execution_count": 37,
     "metadata": {},
     "output_type": "execute_result"
    }
   ],
   "source": [
    "df_copy['end_day_of_trip'].value_counts()"
   ]
  },
  {
   "cell_type": "code",
   "execution_count": 38,
   "metadata": {},
   "outputs": [
    {
     "data": {
      "text/plain": [
       "count     179592\n",
       "unique         3\n",
       "top         Male\n",
       "freq      133916\n",
       "Name: member_gender, dtype: object"
      ]
     },
     "execution_count": 38,
     "metadata": {},
     "output_type": "execute_result"
    }
   ],
   "source": [
    "df_copy['member_gender'].describe()"
   ]
  },
  {
   "cell_type": "code",
   "execution_count": 39,
   "metadata": {},
   "outputs": [
    {
     "data": {
      "text/plain": [
       "count       179592\n",
       "unique           7\n",
       "top       Thursday\n",
       "freq         38010\n",
       "Name: end_day_of_trip, dtype: object"
      ]
     },
     "execution_count": 39,
     "metadata": {},
     "output_type": "execute_result"
    }
   ],
   "source": [
    "df_copy['end_day_of_trip'].describe()"
   ]
  },
  {
   "cell_type": "code",
   "execution_count": 40,
   "metadata": {},
   "outputs": [
    {
     "data": {
      "text/plain": [
       "count       179592\n",
       "unique           7\n",
       "top       Thursday\n",
       "freq         38020\n",
       "Name: start_day_of_trip, dtype: object"
      ]
     },
     "execution_count": 40,
     "metadata": {},
     "output_type": "execute_result"
    }
   ],
   "source": [
    "df_copy['start_day_of_trip'].describe()"
   ]
  },
  {
   "cell_type": "code",
   "execution_count": 41,
   "metadata": {},
   "outputs": [
    {
     "data": {
      "text/plain": [
       "count    179592.000000\n",
       "mean         15.461134\n",
       "std           7.982037\n",
       "min           1.000000\n",
       "25%           8.000000\n",
       "50%          16.000000\n",
       "75%          22.000000\n",
       "max          28.000000\n",
       "Name: start_day, dtype: float64"
      ]
     },
     "execution_count": 41,
     "metadata": {},
     "output_type": "execute_result"
    }
   ],
   "source": [
    "df_copy['start_day'].describe()"
   ]
  },
  {
   "cell_type": "code",
   "execution_count": 42,
   "metadata": {},
   "outputs": [
    {
     "data": {
      "text/plain": [
       "count    179592.000000\n",
       "mean         15.460555\n",
       "std           7.982267\n",
       "min           1.000000\n",
       "25%           8.000000\n",
       "50%          16.000000\n",
       "75%          22.000000\n",
       "max          28.000000\n",
       "Name: end_day, dtype: float64"
      ]
     },
     "execution_count": 42,
     "metadata": {},
     "output_type": "execute_result"
    }
   ],
   "source": [
    "df_copy['end_day'].describe()"
   ]
  },
  {
   "cell_type": "code",
   "execution_count": 43,
   "metadata": {},
   "outputs": [
    {
     "data": {
      "text/plain": [
       "count                  179592\n",
       "unique                     28\n",
       "top       2019-02-21 00:00:00\n",
       "freq                    13428\n",
       "first     2019-02-01 00:00:00\n",
       "last      2019-02-28 00:00:00\n",
       "Name: start_date, dtype: object"
      ]
     },
     "execution_count": 43,
     "metadata": {},
     "output_type": "execute_result"
    }
   ],
   "source": [
    "df_copy['start_date'].describe()"
   ]
  },
  {
   "cell_type": "code",
   "execution_count": 44,
   "metadata": {},
   "outputs": [
    {
     "data": {
      "text/plain": [
       "count                  179592\n",
       "unique                     29\n",
       "top       2019-02-21 00:00:00\n",
       "freq                    13428\n",
       "first     2019-02-01 00:00:00\n",
       "last      2019-03-01 00:00:00\n",
       "Name: end_date, dtype: object"
      ]
     },
     "execution_count": 44,
     "metadata": {},
     "output_type": "execute_result"
    }
   ],
   "source": [
    "df_copy['end_date'].describe()"
   ]
  },
  {
   "cell_type": "code",
   "execution_count": 45,
   "metadata": {},
   "outputs": [
    {
     "data": {
      "text/plain": [
       "count              179592\n",
       "unique             174648\n",
       "top       16:13:47.513000\n",
       "freq                    3\n",
       "Name: start_time, dtype: object"
      ]
     },
     "execution_count": 45,
     "metadata": {},
     "output_type": "execute_result"
    }
   ],
   "source": [
    "df_copy['start_time'].describe()"
   ]
  },
  {
   "cell_type": "code",
   "execution_count": 46,
   "metadata": {},
   "outputs": [
    {
     "data": {
      "text/plain": [
       "count              179592\n",
       "unique             174622\n",
       "top       22:16:04.478000\n",
       "freq                    4\n",
       "Name: end_time, dtype: object"
      ]
     },
     "execution_count": 46,
     "metadata": {},
     "output_type": "execute_result"
    }
   ],
   "source": [
    "df_copy['end_time'].describe()"
   ]
  },
  {
   "cell_type": "code",
   "execution_count": 47,
   "metadata": {},
   "outputs": [
    {
     "data": {
      "text/plain": [
       "count    179592.000000\n",
       "mean         11.722707\n",
       "std          27.265254\n",
       "min           1.016667\n",
       "25%           5.383333\n",
       "50%           8.500000\n",
       "75%          13.150000\n",
       "max        1409.133333\n",
       "Name: duration_min, dtype: float64"
      ]
     },
     "execution_count": 47,
     "metadata": {},
     "output_type": "execute_result"
    }
   ],
   "source": [
    "df_copy['duration_min'].describe()"
   ]
  },
  {
   "cell_type": "code",
   "execution_count": 48,
   "metadata": {},
   "outputs": [
    {
     "data": {
      "text/plain": [
       "count    179592.000000\n",
       "mean          0.929580\n",
       "std           0.304996\n",
       "min           0.007179\n",
       "25%           0.731051\n",
       "50%           0.929419\n",
       "75%           1.118926\n",
       "max           3.148952\n",
       "Name: duration_min, dtype: float64"
      ]
     },
     "execution_count": 48,
     "metadata": {},
     "output_type": "execute_result"
    }
   ],
   "source": [
    "np.log10(df_copy['duration_min']).describe()"
   ]
  },
  {
   "cell_type": "code",
   "execution_count": 49,
   "metadata": {},
   "outputs": [
    {
     "data": {
      "text/plain": [
       "count         179592\n",
       "unique             2\n",
       "top       Subscriber\n",
       "freq          162610\n",
       "Name: user_type, dtype: object"
      ]
     },
     "execution_count": 49,
     "metadata": {},
     "output_type": "execute_result"
    }
   ],
   "source": [
    "df_copy['user_type'].describe()"
   ]
  },
  {
   "cell_type": "code",
   "execution_count": 50,
   "metadata": {},
   "outputs": [
    {
     "data": {
      "text/plain": [
       "count    179592.000000\n",
       "mean       1984.806205\n",
       "std          10.113561\n",
       "min        1878.000000\n",
       "25%        1980.000000\n",
       "50%        1987.000000\n",
       "75%        1992.000000\n",
       "max        2001.000000\n",
       "Name: member_birth_year, dtype: float64"
      ]
     },
     "execution_count": 50,
     "metadata": {},
     "output_type": "execute_result"
    }
   ],
   "source": [
    "df_copy['member_birth_year'].describe()"
   ]
  },
  {
   "cell_type": "markdown",
   "metadata": {},
   "source": [
    "### Univariant exploration "
   ]
  },
  {
   "cell_type": "markdown",
   "metadata": {},
   "source": [
    "### In this step i will explore the various items or column in the data set to find out the desied elements for me."
   ]
  },
  {
   "cell_type": "code",
   "execution_count": 51,
   "metadata": {},
   "outputs": [
    {
     "data": {
      "text/plain": [
       "Text(0.5,0,'end_day_of_trip')"
      ]
     },
     "execution_count": 51,
     "metadata": {},
     "output_type": "execute_result"
    },
    {
     "data": {
      "image/png": "[encoded data removed]",
      "text/plain": [
       "<matplotlib.figure.Figure at 0x7f8bd6738d30>"
      ]
     },
     "metadata": {
      "needs_background": "light"
     },
     "output_type": "display_data"
    }
   ],
   "source": [
    "plt.hist(data = df_copy, x = 'end_day_of_trip');\n",
    "plt.xlabel('end_day_of_trip')"
   ]
  },
  {
   "cell_type": "code",
   "execution_count": 52,
   "metadata": {},
   "outputs": [
    {
     "data": {
      "text/plain": [
       "<matplotlib.axes._subplots.AxesSubplot at 0x7f8bd467bc18>"
      ]
     },
     "execution_count": 52,
     "metadata": {},
     "output_type": "execute_result"
    },
    {
     "data": {
      "image/png": "[encoded data removed]",
      "text/plain": [
       "<matplotlib.figure.Figure at 0x7f8bd67aada0>"
      ]
     },
     "metadata": {
      "needs_background": "light"
     },
     "output_type": "display_data"
    }
   ],
   "source": [
    "sb.countplot(data=df_copy,x='start_day', color=sb.color_palette()[0])"
   ]
  },
  {
   "cell_type": "markdown",
   "metadata": {},
   "source": [
    "#### As for the days of the week, the result was relatively amazing to me. It seems that the weekends have witnessed a significant decrease in the ridding of cycling. It seems that it is a real holiday, and it seems that a significant percentage of the population uses bicycles in their daily routine"
   ]
  },
  {
   "cell_type": "markdown",
   "metadata": {},
   "source": [
    "#### In addition the idea dealing with how about the frequency during the month of concern showed a variation in count of ridding  but supported the weekly conclusion related to the low rate in the weekends "
   ]
  },
  {
   "cell_type": "code",
   "execution_count": 53,
   "metadata": {},
   "outputs": [
    {
     "data": {
      "text/plain": [
       "Text(0.5,0,'user_type')"
      ]
     },
     "execution_count": 53,
     "metadata": {},
     "output_type": "execute_result"
    },
    {
     "data": {
      "image/png": "[encoded data removed]",
      "text/plain": [
       "<matplotlib.figure.Figure at 0x7f8bd461dc18>"
      ]
     },
     "metadata": {
      "needs_background": "light"
     },
     "output_type": "display_data"
    }
   ],
   "source": [
    "plt.hist(data = df_copy, x = 'user_type');\n",
    "plt.xlabel('user_type')"
   ]
  },
  {
   "cell_type": "markdown",
   "metadata": {},
   "source": [
    "#### For the user type it is traditional the subscriber is huge against customers it seems that the loyality programs is good but it is just a guess from the results."
   ]
  },
  {
   "cell_type": "code",
   "execution_count": 54,
   "metadata": {},
   "outputs": [
    {
     "data": {
      "text/plain": [
       "Text(0.5,0,'duration_min')"
      ]
     },
     "execution_count": 54,
     "metadata": {},
     "output_type": "execute_result"
    },
    {
     "data": {
      "image/png": "[encoded data removed]",
      "text/plain": [
       "<matplotlib.figure.Figure at 0x7f8bd4629780>"
      ]
     },
     "metadata": {
      "needs_background": "light"
     },
     "output_type": "display_data"
    }
   ],
   "source": [
    "bins = 10 ** np.arange(0.1, 3.14+0.01, 0.01)\n",
    "plt.hist(data = df_copy, x = 'duration_min', bins = bins);\n",
    "plt.xlim([0,70])\n",
    "plt.xlabel('duration_min')"
   ]
  },
  {
   "cell_type": "markdown",
   "metadata": {},
   "source": [
    "#### At this point i had to transfer the original data to (log) to figure out the shape of data and as it seems it is highly skewed to the right so the majority of the riders tends to use the ride for may be fro (10-20 minutes) per day while others for many more time. "
   ]
  },
  {
   "cell_type": "code",
   "execution_count": 55,
   "metadata": {},
   "outputs": [
    {
     "data": {
      "text/plain": [
       "Text(0.5,0,'member_birth_year')"
      ]
     },
     "execution_count": 55,
     "metadata": {},
     "output_type": "execute_result"
    },
    {
     "data": {
      "image/png": "[encoded data removed]",
      "text/plain": [
       "<matplotlib.figure.Figure at 0x7f8bd4153c88>"
      ]
     },
     "metadata": {
      "needs_background": "light"
     },
     "output_type": "display_data"
    }
   ],
   "source": [
    "bins = np.arange(1878, 2001+1, 1)\n",
    "plt.hist(data = df_copy, x = 'member_birth_year', bins = bins);\n",
    "plt.xlim([1800,2015])\n",
    "plt.xlabel('member_birth_year')"
   ]
  },
  {
   "cell_type": "markdown",
   "metadata": {},
   "source": [
    "#### The birth year is another amazing factor it seems that in that city there are ridders exceded in age 100 years which needs more investigations about the validity of the data is it true or not and if true we need to standout the reasons about that fact which is appearing in the left skewenes."
   ]
  },
  {
   "cell_type": "code",
   "execution_count": 56,
   "metadata": {},
   "outputs": [
    {
     "data": {
      "image/png": "[encoded data removed]",
      "text/plain": [
       "<matplotlib.figure.Figure at 0x7f8bd3df8f60>"
      ]
     },
     "metadata": {
      "needs_background": "light"
     },
     "output_type": "display_data"
    }
   ],
   "source": [
    "sb.countplot(data = df_copy, x = 'member_gender')\n",
    "plt.title('member_gender');"
   ]
  },
  {
   "cell_type": "markdown",
   "metadata": {},
   "source": [
    "#### I am sorry men competing hardly it is a big deference in favor to men."
   ]
  },
  {
   "cell_type": "code",
   "execution_count": 57,
   "metadata": {},
   "outputs": [
    {
     "data": {
      "image/png": "[encoded data removed]",
      "text/plain": [
       "<matplotlib.figure.Figure at 0x7f8bd3e19a20>"
      ]
     },
     "metadata": {
      "needs_background": "light"
     },
     "output_type": "display_data"
    }
   ],
   "source": [
    "sb.boxplot(data=df_copy, x='age', color=sb.color_palette()[0]);\n",
    "plt.xlabel('Age');"
   ]
  },
  {
   "cell_type": "markdown",
   "metadata": {},
   "source": [
    "#### Just for the records the extreme outliers in age highlighting the fact that many are ridding who exceded the 90 years"
   ]
  },
  {
   "cell_type": "markdown",
   "metadata": {},
   "source": [
    "### The univariant explanation:\n",
    "#### After exploring many items in the dataset i found out many interesting things as follows;\n",
    "##### It is worth noting that on Thursday of every week there is a noticeable activity for riding the stairs, unlike the weekend which is witnessing a remarkable decline and also balanced activity for the rest of the days of the week. The number of subscribers is much greater than the tenants, which at the same time represents an economic activity with more opportunities Taking into account that in terms of marketing, attention should be given to females more than that due to the variation in interest indicated by the difference in the ratio between males and females"
   ]
  },
  {
   "cell_type": "markdown",
   "metadata": {},
   "source": [
    "### Bivariant exploration"
   ]
  },
  {
   "cell_type": "code",
   "execution_count": 58,
   "metadata": {},
   "outputs": [
    {
     "data": {
      "image/png": "[encoded data removed]",
      "text/plain": [
       "<matplotlib.figure.Figure at 0x7f8bd41d0a20>"
      ]
     },
     "metadata": {
      "needs_background": "light"
     },
     "output_type": "display_data"
    }
   ],
   "source": [
    "plt.figure(figsize = [10,5])\n",
    "plt.scatter(data = df_copy , x = 'start_day' , y = 'duration_min' , alpha = 1 )\n",
    "plt.title('daily trip duration')\n",
    "plt.xlabel('start day')\n",
    "plt.ylabel('duration in minutes');"
   ]
  },
  {
   "cell_type": "markdown",
   "metadata": {},
   "source": [
    "#### Here I will combin another factor to have a better vision and all moving around the relation between the duration ( which represent the consumption here) and another factors to judge it better.\n",
    "#### The relation between the start day of the week and duration in minutes the rate is maintained the work days is better in ridding and duration."
   ]
  },
  {
   "cell_type": "code",
   "execution_count": 59,
   "metadata": {},
   "outputs": [
    {
     "data": {
      "image/png": "[encoded data removed]",
      "text/plain": [
       "<matplotlib.figure.Figure at 0x7f8bd40cec50>"
      ]
     },
     "metadata": {
      "needs_background": "light"
     },
     "output_type": "display_data"
    }
   ],
   "source": [
    "plt.figure(figsize = [10,5])\n",
    "plt.scatter(data = df_copy , x = 'member_gender' , y = 'duration_min' , alpha = 1 )\n",
    "plt.title('daily trip duration in relation with gender')\n",
    "plt.xlabel('member gender')\n",
    "plt.ylabel('duration in minutes');"
   ]
  },
  {
   "cell_type": "markdown",
   "metadata": {},
   "source": [
    "#### The men are the most ridder in the city and a segmented marketing targeting the women and other need to be done."
   ]
  },
  {
   "cell_type": "code",
   "execution_count": 60,
   "metadata": {},
   "outputs": [
    {
     "data": {
      "image/png": "[encoded data removed]",
      "text/plain": [
       "<matplotlib.figure.Figure at 0x7f8bd406f668>"
      ]
     },
     "metadata": {
      "needs_background": "light"
     },
     "output_type": "display_data"
    }
   ],
   "source": [
    "base_color = sb.color_palette()[0]\n",
    "plt.figure(figsize = (10,5))\n",
    "yticks = [1, 5, 10, 50, 100, 500, 1000, 1500]\n",
    "sb.boxplot(data = df_copy, x = 'member_gender', y = 'duration_min', color = base_color);\n",
    "plt.xticks(rotation = 45);\n",
    "plt.ylim(0, 1500);\n",
    "plt.title('Relation between duration and gender', fontsize = 18);\n",
    "plt.xlabel('gender');\n",
    "plt.ylabel('Duration')\n",
    "plt.yticks();"
   ]
  },
  {
   "cell_type": "markdown",
   "metadata": {},
   "source": [
    "#### The box plot for men showed relative increase in the ratios but a noticable outliers in favour to men."
   ]
  },
  {
   "cell_type": "code",
   "execution_count": 61,
   "metadata": {},
   "outputs": [
    {
     "data": {
      "image/png": "[encoded data removed]",
      "text/plain": [
       "<matplotlib.figure.Figure at 0x7f8bd3c6d8d0>"
      ]
     },
     "metadata": {
      "needs_background": "light"
     },
     "output_type": "display_data"
    }
   ],
   "source": [
    "plt.figure(figsize = [10,5])\n",
    "ticks = [1880, 1890, 1900, 1910, 1920, 1930, 1935, 1940, 1945, 1950, 1955, 1960, 1965, 1970, 1975, 1980, 1985, 1990, 1995, 2000]\n",
    "plt.scatter(data = df_copy , x = 'duration_min' , y = 'member_birth_year' , alpha = 0.5 )\n",
    "plt.title('daily trip duration in relation with birth year')\n",
    "plt.xlabel('duration_min')\n",
    "plt.ylabel('member_birth_year');\n",
    "plt.yticks(ticks);"
   ]
  },
  {
   "cell_type": "markdown",
   "metadata": {},
   "source": [
    "#### Another point i wanted to explore is the relation between birth year or the ridder age and the duration and it showed the the relative increase in the segment between 1980 to 2000."
   ]
  },
  {
   "cell_type": "markdown",
   "metadata": {},
   "source": [
    "### The bivariant explanation"
   ]
  },
  {
   "cell_type": "markdown",
   "metadata": {},
   "source": [
    "#### Adding an element to another element helps to clarify things or may lead to obliterating them, but in our case this adding a second element to the equation led to the consolidation of the discovered facts and proposals submitted to the decision-maker regarding the age or age, as well as the gender or type of interest in different age groups And also focus on the female."
   ]
  },
  {
   "cell_type": "code",
   "execution_count": 62,
   "metadata": {},
   "outputs": [
    {
     "data": {
      "image/png": "[encoded data removed]",
      "text/plain": [
       "<matplotlib.figure.Figure at 0x7f8bd3febc88>"
      ]
     },
     "metadata": {
      "needs_background": "light"
     },
     "output_type": "display_data"
    }
   ],
   "source": [
    "plt.figure(figsize = (15,7))\n",
    "\n",
    "cat_markers = [['Male', 's'],\n",
    "               ['Female', '^'],\n",
    "               ['Other', 'd']]\n",
    "\n",
    "for cat, marker in cat_markers:\n",
    "    df_gender = df_copy[df_copy['member_gender'] == cat]\n",
    "    plt.scatter(data = df_gender, x = 'member_birth_year', y = 'duration_min', marker = marker, alpha = 0.5);\n",
    "plt.legend(['Male', 'Female', 'Other']);\n",
    "plt.xlim(1870, 2002);\n",
    "plt.ylim(0, 1500);\n",
    "plt.title('Relation between Duration, Ages and Genders', fontsize = 18);\n",
    "plt.xlabel('birth year');\n",
    "plt.ylabel('Number of Rides');\n"
   ]
  },
  {
   "cell_type": "markdown",
   "metadata": {},
   "source": [
    "#### Men in the birth year ranging 1980 - 2000 are most ridders way the way not necessary the best but facts dealing with percents not skills"
   ]
  },
  {
   "cell_type": "code",
   "execution_count": 63,
   "metadata": {},
   "outputs": [
    {
     "data": {
      "image/png": "[encoded data removed]",
      "text/plain": [
       "<matplotlib.figure.Figure at 0x7f8bd3f0ab00>"
      ]
     },
     "metadata": {
      "needs_background": "light"
     },
     "output_type": "display_data"
    }
   ],
   "source": [
    "plt.figure(figsize = (15,7))\n",
    "\n",
    "cat_markers = [['Male', 's'],\n",
    "               ['Female', '^'],\n",
    "               ['Other', 'd']]\n",
    "\n",
    "for cat, marker in cat_markers:\n",
    "    df_gender = df_copy[df_copy['member_gender'] == cat]\n",
    "    plt.scatter(data = df_gender, x = 'age', y = 'duration_min', marker = marker, alpha = 0.5);\n",
    "plt.legend(['Male', 'Female', 'Other']);\n",
    "plt.xlim(20, 80);\n",
    "plt.ylim(0, 1500);\n",
    "plt.title(' Duration and age and Genders', fontsize = 12);\n",
    "plt.xlabel('age');\n",
    "plt.ylabel('Duration');"
   ]
  },
  {
   "cell_type": "markdown",
   "metadata": {},
   "source": [
    "#### To figure out the relation i extracted the age from the birth year to find it better or to see it better."
   ]
  },
  {
   "cell_type": "code",
   "execution_count": 64,
   "metadata": {},
   "outputs": [
    {
     "data": {
      "image/png": "[encoded data removed]",
      "text/plain": [
       "<matplotlib.figure.Figure at 0x7f8bd3f9ff60>"
      ]
     },
     "metadata": {
      "needs_background": "light"
     },
     "output_type": "display_data"
    }
   ],
   "source": [
    "plt.figure(figsize = (15,7))\n",
    "\n",
    "cat_markers = [['subscriber', 's'],\n",
    "               ['customer', '^']]\n",
    "\n",
    "for cat, marker in cat_markers:\n",
    "    df_user = df_copy[df_copy['user_type'] == cat]\n",
    "    plt.scatter(data = df_gender, x = 'age', y = 'duration_min', marker = marker, alpha = 0.5);\n",
    "plt.legend(['sbscriber', 'customer']);\n",
    "plt.xlim(20, 80);\n",
    "plt.ylim(0, 1500);\n",
    "plt.title(' Duration and age and user type', fontsize = 12);\n",
    "plt.xlabel('age');\n",
    "plt.ylabel('Duration');"
   ]
  },
  {
   "cell_type": "markdown",
   "metadata": {},
   "source": [
    "#### The same point is tested between the age and user type in relation with duration give out that subscribers are competing during the age cycle."
   ]
  },
  {
   "cell_type": "markdown",
   "metadata": {},
   "source": [
    "### Multivariant explanation\n",
    "#### The addition of a new element to the equation supported the same course of speech and expectations regarding the relationship of each of the contestant's type, gender, and age, or more precisely, the year in which he was born, supported by the previous conclusions, which will be listed in the summary."
   ]
  },
  {
   "cell_type": "markdown",
   "metadata": {},
   "source": [
    "## Conclusion\n",
    "#### The focus of my attention was the first thing I examined the information available to me about renting bicycles from Ford and regarding February of 2019 to find the vital points that may affect the rate and amount of use. I focused my focus on the human factor in the main, because I believe it is the most important factor in Regarding gender, age, and from a commercial point of view, days of the week, and the type of passenger, is he a subscriber or a regular customer.\n",
    "#### And it has become evident to me that the number of males is much greater than the number of females, and it seems that they want more attention, for example, by putting feminine touches on degrees or colors or even pictures of heroines on bicycles.\n",
    "#### Also, the number of subscribers to regular customers indicates that subscription programs were available, which led to an increase in the number of subscribers, which is a good thing.\n",
    "#### What astonished me while studying the available information was the age of the riders, which seems to have exceeded the ninety years at times and is a very good thing and can be used if it is correct in the propaganda and advertising."
   ]
  },
  {
   "cell_type": "code",
   "execution_count": null,
   "metadata": {},
   "outputs": [],
   "source": []
  }
 ],
 "metadata": {
  "kernelspec": {
   "display_name": "Python 3",
   "language": "python",
   "name": "python3"
  },
  "language_info": {
   "codemirror_mode": {
    "name": "ipython",
    "version": 3
   },
   "file_extension": ".py",
   "mimetype": "text/x-python",
   "name": "python",
   "nbconvert_exporter": "python",
   "pygments_lexer": "ipython3",
   "version": "3.6.3"
  }
 },
 "nbformat": 4,
 "nbformat_minor": 2
}
